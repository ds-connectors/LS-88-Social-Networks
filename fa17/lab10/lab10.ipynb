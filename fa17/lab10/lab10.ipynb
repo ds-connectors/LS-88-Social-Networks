{
 "cells": [
  {
   "cell_type": "code",
   "execution_count": 1,
   "metadata": {
    "collapsed": false
   },
   "outputs": [
    {
     "data": {
      "text/html": [
       "<style>\n",
       ".imagesource {\n",
       "    font-size: xx-small;\n",
       "}\n",
       ".response {\n",
       "    background-color: #00CCCC;\n",
       "}\n",
       ".solution {\n",
       "    background-color: #CC77CC;\n",
       "}\n",
       "</style>\n"
      ],
      "text/plain": [
       "<IPython.core.display.HTML object>"
      ]
     },
     "execution_count": 1,
     "metadata": {},
     "output_type": "execute_result"
    }
   ],
   "source": [
    "from IPython.core.display import HTML\n",
    "from datascience import *\n",
    "\n",
    "import matplotlib\n",
    "from matplotlib import animation as animation\n",
    "matplotlib.use('Agg')\n",
    "%matplotlib inline\n",
    "import matplotlib.pyplot as plt\n",
    "import numpy as np\n",
    "import os\n",
    "plt.style.use('fivethirtyeight')\n",
    "\n",
    "import networkx as nx\n",
    "from networkx.algorithms import bipartite\n",
    "\n",
    "import pandas as pd\n",
    "\n",
    "import pickle\n",
    "\n",
    "from __future__ import print_function\n",
    "from ipywidgets import interact, interactive, fixed, interact_manual, widgets\n",
    "\n",
    "def css_styling():\n",
    "    styles = open('../notebook_styles.css', 'r').read()\n",
    "    return HTML(styles)\n",
    "css_styling()"
   ]
  },
  {
   "cell_type": "markdown",
   "metadata": {},
   "source": [
    "### Randomize partners"
   ]
  },
  {
   "cell_type": "markdown",
   "metadata": {},
   "source": [
    "**Question** Write your name here"
   ]
  },
  {
   "cell_type": "markdown",
   "metadata": {},
   "source": [
    "<div class='response'>\n",
    "[answer here]\n",
    "</div>"
   ]
  },
  {
   "cell_type": "markdown",
   "metadata": {},
   "source": [
    "**Question** Write your partner's name here"
   ]
  },
  {
   "cell_type": "markdown",
   "metadata": {},
   "source": [
    "<div class='response'>\n",
    "[answer here]\n",
    "</div>"
   ]
  },
  {
   "cell_type": "markdown",
   "metadata": {},
   "source": [
    "**Question** What was your partner's favorite class last year?"
   ]
  },
  {
   "cell_type": "markdown",
   "metadata": {},
   "source": [
    "<div class='response'>\n",
    "[answer here]\n",
    "</div>"
   ]
  },
  {
   "cell_type": "markdown",
   "metadata": {},
   "source": [
    "## Lab 10 - Exploring the final project datasets"
   ]
  },
  {
   "cell_type": "markdown",
   "metadata": {},
   "source": [
    "Today, we're going to explore the two datasets that you can decide to use for your final projects."
   ]
  },
  {
   "cell_type": "markdown",
   "metadata": {},
   "source": [
    "The goal of this lab is to give you a chance to spend some time exploring and familiarizing yourself with these two datasets. Then, in the coming week you will\n",
    "\n",
    "* find a partner\n",
    "* work with your partner to pick a topic to explore in the project\n",
    "* schedule a meeting with me to discuss your plan"
   ]
  },
  {
   "cell_type": "markdown",
   "metadata": {},
   "source": [
    "## Workplace contact networks"
   ]
  },
  {
   "cell_type": "markdown",
   "metadata": {},
   "source": [
    "This dataset comes from a [research project](http://www.sociopatterns.org/datasets/contacts-in-a-workplace/) that wanted to measure physical contact in the workplace. Epidemiologists are interested in understanding patterns of physical contact because these patterns are important for building realistic models of infectious disease transmission. You can find more information in the [paper](https://www.cambridge.org/core/journals/network-science/article/data-on-facetoface-contacts-in-an-office-building-suggest-a-lowcost-vaccination-strategy-based-on-community-linkers/18AB49AB4F2AEA33CE7501F06ADBC8E8)."
   ]
  },
  {
   "cell_type": "markdown",
   "metadata": {},
   "source": [
    "In order to read in the data, we'll have to open up two text files:\n",
    "\n",
    "* `contacts.csv` has edge lists\n",
    "* `department.csv` has information on which department each node belongs to"
   ]
  },
  {
   "cell_type": "markdown",
   "metadata": {},
   "source": [
    "This first chunk of code will read the edge-list into a `pandas` dataframe called `contacts_df`."
   ]
  },
  {
   "cell_type": "code",
   "execution_count": null,
   "metadata": {
    "collapsed": false
   },
   "outputs": [],
   "source": [
    "contacts_df = pd.read_csv(open(os.path.join(\"..\", \"data\", \"workplace-contact\", \"contacts.csv\")),\n",
    "                         names=['time', 'id1', 'id2'])\n",
    "print(contacts_df.shape)\n",
    "contacts_df.head()"
   ]
  },
  {
   "cell_type": "markdown",
   "metadata": {},
   "source": [
    "This second chunk of code will read the edge-list into a `pandas` dataframe called `departments_df`."
   ]
  },
  {
   "cell_type": "code",
   "execution_count": null,
   "metadata": {
    "collapsed": false
   },
   "outputs": [],
   "source": [
    "departments_df = pd.read_csv(open(os.path.join(\"..\", \"data\", \"workplace-contact\", \"department.csv\")),\n",
    "                             names=['id', 'department'])\n",
    "print(departments_df.shape)\n",
    "departments_df.head()"
   ]
  },
  {
   "cell_type": "markdown",
   "metadata": {},
   "source": [
    "Now we'll use the two dataframes we just read in to\n",
    "\n",
    "* create a networkx `Graph` object\n",
    "* add the appropriate attributes (ie, department) to each node"
   ]
  },
  {
   "cell_type": "code",
   "execution_count": null,
   "metadata": {
    "collapsed": false
   },
   "outputs": [],
   "source": [
    "contact_network = nx.from_pandas_dataframe(contacts_df, \n",
    "                                           source='id1', \n",
    "                                           target='id2',\n",
    "                                           edge_attr='time',\n",
    "                                           create_using=nx.Graph())\n",
    "\n",
    "nx.set_node_attributes(contact_network,\n",
    "                       'department',\n",
    "                       departments_df.set_index('id').to_dict()['department'])"
   ]
  },
  {
   "cell_type": "markdown",
   "metadata": {},
   "source": [
    "**Question** Investigate this network; use approaches we learned in previous labs to quantify different aspects of the network structure; like any exploratory analysis, you might find it helpful to make plots to visualize the data.  \n",
    "Some example questions you might explore:\n",
    "* how many nodes / edges?\n",
    "* what is the degree distribution? average degree?\n",
    "* how many components are in the network?\n",
    "* etc..."
   ]
  },
  {
   "cell_type": "code",
   "execution_count": null,
   "metadata": {
    "collapsed": true
   },
   "outputs": [],
   "source": [
    "...\n",
    "...\n",
    "..."
   ]
  },
  {
   "cell_type": "markdown",
   "metadata": {},
   "source": [
    "**Question** Now that you have explored the data a little bit, talk to your partner and try to come up with two questions you might be interested in answering using this dataset. (These don't have to end up being project topics; this is just to get you thinking.)"
   ]
  },
  {
   "cell_type": "markdown",
   "metadata": {},
   "source": [
    "<div class='response'>\n",
    "1. [answer here]  \n",
    "2. [answer here]\n",
    "</div>"
   ]
  },
  {
   "cell_type": "markdown",
   "metadata": {},
   "source": [
    "## Indian villages"
   ]
  },
  {
   "cell_type": "markdown",
   "metadata": {
    "collapsed": true
   },
   "source": [
    "The second dataset comes from a large study about microfinance that several economists conducted a few years ago. The researchers collected information about many different kinds of network relationships among people who lived in 77 different villages in Southern India. Their ultimate goal was to understand what kinds of social influence factors might be important in whether or not people decide to make use of a microfinance program. You can see a description of their results in [their paper](http://science.sciencemag.org/content/341/6144/1236498).\n",
    "\n",
    "There is also some more information on their dataset on [Prof. Matt Jackson's website](http://web.stanford.edu/~jacksonm/Data.html).\n",
    "\n",
    "In particular, the [README](https://web.stanford.edu/~jacksonm/IndianVillagesREADME.pdf) file for the Indian Villages data is helpful. Here is an excerpt that describes some important parts of the dataset:\n",
    "\n",
    "    3. Data\n",
    "    The “Data” folder contains two subfolders: “Network Data” and “Demographics and Outcomes.” In the \"Network Data\" folder, there are adjacency matrices for each of the 75 villages surveyed. The 75 villages are numbered 1-77 (villages 13 and 22 are missing.) About half of households received detailed surveys in which individuals were asked to list the names of people with whom they shared a certain relationship. Households were randomly sampled and stratified by religion and geographic sub-region.\n",
    "    For each variable, an individual matrix and a household matrix were constructed. A relationship between households exists if any household members indicated a relationship with members from the other household. These questions were asked in the individual survey.\n",
    "    Individuals were asked who they: -- borrow money from\n",
    "    -- give advice to\n",
    "    -- help with a decision\n",
    "    -- borrow kerosene or rice from -- lend kerosene or rice to\n",
    "    -- lend money to\n",
    "    -- obtain medical advice from -- engage socially with\n",
    "    -- are related to\n",
    "    -- go to temple with\n",
    "    -- invite to one's home\n",
    "    -- visit in another's home.\n",
    "    We also include the ALL network which is a union and an AND network which is the intersection. This is done both at the individual and household levels.\n"
   ]
  },
  {
   "cell_type": "markdown",
   "metadata": {},
   "source": [
    "We've done much of the work needed to actually read the data in already. This function will be helpful:"
   ]
  },
  {
   "cell_type": "code",
   "execution_count": null,
   "metadata": {
    "collapsed": true
   },
   "outputs": [],
   "source": [
    "def load_iv_relation(relation):\n",
    "    \n",
    "    fn = os.path.join(\"..\", \"data\", \"indian-villages\", \"iv_hh_\" + relation + \".pickle\")\n",
    "    return(pickle.load(open(fn, 'rb')))"
   ]
  },
  {
   "cell_type": "markdown",
   "metadata": {},
   "source": [
    "### Using the functions to load Indian Villages data"
   ]
  },
  {
   "cell_type": "markdown",
   "metadata": {},
   "source": [
    "Here's an example that reads in the Indian Villages network for households using the 'lendmoney' relation for village id 6.\n",
    "\n",
    "First, we load the `lendmoney` networks using the function defined above:"
   ]
  },
  {
   "cell_type": "code",
   "execution_count": null,
   "metadata": {
    "collapsed": false
   },
   "outputs": [],
   "source": [
    "net_lendmoney = load_iv_relation('lendmoney')"
   ]
  },
  {
   "cell_type": "markdown",
   "metadata": {},
   "source": [
    "The result, `net_lendmoney` is a dictionary. This means that we can use the index of a specific village to get the lendmoney network for that village:"
   ]
  },
  {
   "cell_type": "code",
   "execution_count": null,
   "metadata": {
    "collapsed": false
   },
   "outputs": [],
   "source": [
    "net_lendmoney_village6 = net_lendmoney[6]\n",
    "\n",
    "nx.draw(net_lendmoney_village6)"
   ]
  },
  {
   "cell_type": "markdown",
   "metadata": {},
   "source": [
    "This list has all of the different types of network relation that are available."
   ]
  },
  {
   "cell_type": "code",
   "execution_count": null,
   "metadata": {
    "collapsed": false
   },
   "outputs": [],
   "source": [
    "all_relations = \"\"\"borrowmoney\n",
    "giveadvice\n",
    "helpdecision\n",
    "keroricecome\n",
    "keroricego\n",
    "lendmoney\n",
    "medic\n",
    "nonrel\n",
    "rel\n",
    "templecompany\n",
    "visitcome\n",
    "visitgo\n",
    "allVillageRelationships\n",
    "andRelationships\"\"\".split('\\n')\n",
    "\n",
    "print(all_relations)"
   ]
  },
  {
   "cell_type": "markdown",
   "metadata": {},
   "source": [
    "Similarly, this list has the ids of all of the different villages in the dataset:"
   ]
  },
  {
   "cell_type": "code",
   "execution_count": null,
   "metadata": {
    "collapsed": false
   },
   "outputs": [],
   "source": [
    "all_village_ids = list(range(1, 78, 1))\n",
    "all_village_ids.remove(13)\n",
    "all_village_ids.remove(22)\n",
    "\n",
    "print(all_village_ids)"
   ]
  },
  {
   "cell_type": "markdown",
   "metadata": {},
   "source": [
    "So we can compute the number of nodes in each village like this:"
   ]
  },
  {
   "cell_type": "code",
   "execution_count": null,
   "metadata": {
    "collapsed": false
   },
   "outputs": [],
   "source": [
    "village_ids = make_array()\n",
    "num_nodes = make_array()\n",
    "\n",
    "for cur_village in all_village_ids:\n",
    "    num_nodes = np.append(num_nodes, nx.number_of_nodes(net_lendmoney[cur_village]))\n",
    "    \n",
    "lendmoney_num_nodes = Table().with_columns('village_id', all_village_ids,\n",
    "                                           'num_nodes', num_nodes)\n",
    "\n",
    "lendmoney_num_nodes\n"
   ]
  },
  {
   "cell_type": "markdown",
   "metadata": {},
   "source": [
    "**Question** Now investigate these networks; use approaches we learned in previous labs to quantify different aspects of the network structure; like any exploratory analysis, you might find it helpful to make plots to visualize the data.   \n",
    "You might choose to focus on one village, or on one type of relationship. There are tons of possibilities."
   ]
  },
  {
   "cell_type": "code",
   "execution_count": null,
   "metadata": {
    "collapsed": true
   },
   "outputs": [],
   "source": [
    "...\n",
    "...\n",
    "..."
   ]
  },
  {
   "cell_type": "markdown",
   "metadata": {},
   "source": [
    "**Question** Now that you have explored the data a little bit, talk to your partner and try to come up with two questions you might be interested in answering using this dataset. (These don't have to end up being project topics; this is just to get you thinking.)"
   ]
  },
  {
   "cell_type": "markdown",
   "metadata": {},
   "source": [
    "<div class='response'>\n",
    "1. [answer here]  \n",
    "2. [answer here]\n",
    "</div>"
   ]
  },
  {
   "cell_type": "markdown",
   "metadata": {},
   "source": [
    "## Submit the lab\n",
    "\n",
    "You're almost done! Now please create a pdf version of your completed lab by **either**:\n",
    "\n",
    "* printing your notebook to a pdf file\n",
    "* going to the Jupyter 'File' menu, choosing 'Download as' and then 'PDF via LaTeX (.pdf)'. \n",
    "\n",
    "Please save the resulting .pdf on your computer and then **submit the .pdf on bcourses**.\n",
    "\n",
    "**The lab must be submitted by the end of the day on Monday, Nov. 13. Late labs will not be accepted.**"
   ]
  },
  {
   "cell_type": "code",
   "execution_count": null,
   "metadata": {
    "collapsed": true
   },
   "outputs": [],
   "source": []
  }
 ],
 "metadata": {
  "anaconda-cloud": {},
  "kernelspec": {
   "display_name": "Python [default]",
   "language": "python",
   "name": "python3"
  },
  "language_info": {
   "codemirror_mode": {
    "name": "ipython",
    "version": 3
   },
   "file_extension": ".py",
   "mimetype": "text/x-python",
   "name": "python",
   "nbconvert_exporter": "python",
   "pygments_lexer": "ipython3",
   "version": "3.5.2"
  }
 },
 "nbformat": 4,
 "nbformat_minor": 1
}
