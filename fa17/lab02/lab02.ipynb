{
 "cells": [
  {
   "cell_type": "code",
   "execution_count": null,
   "metadata": {
    "collapsed": true
   },
   "outputs": [],
   "source": [
    "from IPython.core.display import HTML\n",
    "from datascience import *\n",
    "\n",
    "import matplotlib\n",
    "matplotlib.use('Agg')\n",
    "%matplotlib inline\n",
    "import matplotlib.pyplot as plt\n",
    "import numpy as np\n",
    "plt.style.use('fivethirtyeight')\n",
    "\n",
    "import warnings\n",
    "warnings.simplefilter('ignore', FutureWarning)"
   ]
  },
  {
   "cell_type": "code",
   "execution_count": null,
   "metadata": {
    "collapsed": false
   },
   "outputs": [],
   "source": [
    "def css_styling():\n",
    "    styles = open('../notebook_styles.css', 'r').read()\n",
    "    return HTML(styles)\n",
    "css_styling()"
   ]
  },
  {
   "cell_type": "markdown",
   "metadata": {},
   "source": [
    "### L&S 88 - Social Networks"
   ]
  },
  {
   "cell_type": "markdown",
   "metadata": {
    "collapsed": true
   },
   "source": [
    "# Lab 02: Homophily and personal networks"
   ]
  },
  {
   "cell_type": "markdown",
   "metadata": {},
   "source": [
    "Let's start by loading the results of our survey, which we started to explore in Lab 01."
   ]
  },
  {
   "cell_type": "code",
   "execution_count": null,
   "metadata": {
    "collapsed": true
   },
   "outputs": [],
   "source": [
    "from datascience import *\n",
    "\n",
    "url = \"../data/survey/berkeley_survey_clean.csv\"\n",
    "survey = Table.read_table(url)"
   ]
  },
  {
   "cell_type": "markdown",
   "metadata": {},
   "source": [
    "At the end of the last lab, we made a scatter plot which showed the age of the survey respondents on the x axis and the age of the first reported confidant (`alter1_age`) on the y axis:"
   ]
  },
  {
   "cell_type": "code",
   "execution_count": null,
   "metadata": {
    "collapsed": false
   },
   "outputs": [],
   "source": [
    "survey.scatter('respondent_age', 'alter1_age')"
   ]
  },
  {
   "cell_type": "markdown",
   "metadata": {},
   "source": [
    "[Discuss as a group]"
   ]
  },
  {
   "cell_type": "markdown",
   "metadata": {},
   "source": [
    "One distinctive feature of this plot is that many of the confidants have ages that are very similar to the ages of the survey respondents.  This is an example of a phenomenon that is found in many different kinds of social networks: people tend to be connected to others who are simliar to them. This phenomenon is called **homophily**. Homophily in social networks is not a universal law or a mathematical fact, but it is a striking empirical regularity. We see examples of homophily again and again in real-world social networks."
   ]
  },
  {
   "cell_type": "markdown",
   "metadata": {},
   "source": [
    "**Discussion question** Based on your personal experience, would you predict that Berkley students' confidant networks will be homophilous? Which traits do you think will be most homophilous and which will be least homophilous? (A *trait* here is a measurable characteristic of Berkeley students like age, class year, or home. Of course, there are many traits that we did not measure on our survey.)"
   ]
  },
  {
   "cell_type": "markdown",
   "metadata": {},
   "source": [
    "[Discuss as a group]"
   ]
  },
  {
   "cell_type": "markdown",
   "metadata": {},
   "source": [
    "**Discussion question** Now look at the scatter plot again. There is a second cloud of points above the first one.  These points represent alters who are not about the same age as survey respondents; instead, they look like they are about 25 years older than survey respondents. What do you think might explain this?"
   ]
  },
  {
   "cell_type": "markdown",
   "metadata": {},
   "source": [
    "[Discuss as a group]"
   ]
  },
  {
   "cell_type": "markdown",
   "metadata": {},
   "source": [
    "## Randomize into pairs"
   ]
  },
  {
   "cell_type": "markdown",
   "metadata": {},
   "source": [
    "**Question** Write your partner's name"
   ]
  },
  {
   "cell_type": "markdown",
   "metadata": {},
   "source": [
    "<div class='response'>\n",
    "[Answer here]\n",
    "</div>"
   ]
  },
  {
   "cell_type": "markdown",
   "metadata": {},
   "source": [
    "**Question** What is your partner's favorite food?"
   ]
  },
  {
   "cell_type": "markdown",
   "metadata": {},
   "source": [
    "<div class='response'>\n",
    "[Answer here]\n",
    "</div>"
   ]
  },
  {
   "cell_type": "markdown",
   "metadata": {},
   "source": [
    "## Converting from wide to long"
   ]
  },
  {
   "cell_type": "markdown",
   "metadata": {},
   "source": [
    "So far, we have only looked at the relationship between the survey respondents and the first alter that they mentioned. However, we designed our survey so that respondents could tell us about up to five alters. In order to look at *all* of the alters respondents reported about, we're going to have to manipulate the dataset a bit more extensively. This manipulation is a little bit tricky, but we're going to go through how it can be done step by step. Later on in the semester, Data 8 will teach you a more direct way to perform some of these manipulations.\n",
    "\n",
    "First, let's take a look at the first few rows of the dataset again to remind ourselves of how it is structured:"
   ]
  },
  {
   "cell_type": "code",
   "execution_count": null,
   "metadata": {
    "collapsed": false
   },
   "outputs": [],
   "source": [
    "survey.show()"
   ]
  },
  {
   "cell_type": "markdown",
   "metadata": {},
   "source": [
    "The dataset is in *wide* format: all of the information reported by a respondent is stored in a single row:\n",
    "\n",
    "[respondent 1 info] ... [info about respondent 1's first alter] ... [info about respondent 1's second alter] ...   \n",
    "[respondent 2 info] ... [info about respondent 2's first alter] ... [info about respondent 2's second alter] ...   \n",
    "...\n",
    "\n",
    "Our goal is to reshape the dataset so that the information is in *long* format instead:\n",
    "\n",
    "[respondent 1 info] [info about respondent 1's first alter]  \n",
    "[respondent 1 info] [info about respondent 1's second alter]  \n",
    "[respondent 1 info] [info about respondent 1's third alter]  \n",
    "[respondent 1 info] [info about respondent 1's fourth alter]  \n",
    "[respondent 1 info] [info about respondent 1's fifth alter]  \n",
    "[respondent 2 info] [info about respondent 2's first alter]  \n",
    "[respondent 2 info] [info about respondent 2's second alter]  \n",
    "..."
   ]
  },
  {
   "cell_type": "markdown",
   "metadata": {},
   "source": [
    "[discuss wide to long transformations together on the board]"
   ]
  },
  {
   "cell_type": "markdown",
   "metadata": {},
   "source": [
    "We're going to start by creating an id variable for our survey responses. This is not strictly necessary, but it will help us double-check our results once we have finished."
   ]
  },
  {
   "cell_type": "code",
   "execution_count": null,
   "metadata": {
    "collapsed": true
   },
   "outputs": [],
   "source": [
    "## create a respondent id variable\n",
    "survey['respondent_id'] = range(1, survey.num_rows + 1)"
   ]
  },
  {
   "cell_type": "code",
   "execution_count": null,
   "metadata": {
    "collapsed": false
   },
   "outputs": [],
   "source": [
    "survey.show()"
   ]
  },
  {
   "cell_type": "markdown",
   "metadata": {},
   "source": [
    " "
   ]
  },
  {
   "cell_type": "markdown",
   "metadata": {},
   "source": [
    "In order to convert the alter information from wide to long format, we're going to use two functions that have been written for you below. Since you have been learning about functions in Data 8, this will be a good chance to practice some of the skills you recently learned.\n",
    "\n",
    "Let's look at the function below and try to understand how it works."
   ]
  },
  {
   "cell_type": "code",
   "execution_count": null,
   "metadata": {
    "collapsed": true
   },
   "outputs": [],
   "source": [
    "def repeat_single_col(data, var_name, times=5):\n",
    "    \"\"\"Repeats a single column multiple times.\n",
    "    \n",
    "    Parameters\n",
    "    ----------\n",
    "    var_name : str\n",
    "        Text that contains the name of the column to repeat.\n",
    "    \n",
    "    Returns\n",
    "    -------\n",
    "    np.array\n",
    "        A single array with the contents of the column repeated five times.\n",
    "    \n",
    "    Examples\n",
    "    --------\n",
    "    >>> repeat_single_col(Table().with_columns(['respondent_age', [10]]),\n",
    "                          'respondent_age')\n",
    "    \n",
    "    array([10, 10, 10, 10, 10])\n",
    "    \"\"\"\n",
    "    new_col = np.tile(data.column(var_name), times)\n",
    "    return new_col"
   ]
  },
  {
   "cell_type": "markdown",
   "metadata": {},
   "source": [
    "The key to understanding `repeat_single_col` is the `np.tile` function. Look that function up and read its help page."
   ]
  },
  {
   "cell_type": "markdown",
   "metadata": {},
   "source": [
    "**Question** Use `np.tile` to create an array that contains [1,3,5,7,1,3,5,7,1,3,5,7,1,3,5,7]."
   ]
  },
  {
   "cell_type": "code",
   "execution_count": null,
   "metadata": {
    "collapsed": true
   },
   "outputs": [],
   "source": [
    "..."
   ]
  },
  {
   "cell_type": "markdown",
   "metadata": {},
   "source": [
    "**Question** What is the difference between `np.tile` and `np.repeat`? Do they do the same thing?<BR>\n",
    "[*Hint: you can use the help page to figure out what `np.repeat` does.*]"
   ]
  },
  {
   "cell_type": "code",
   "execution_count": null,
   "metadata": {
    "collapsed": true
   },
   "outputs": [],
   "source": [
    "..."
   ]
  },
  {
   "cell_type": "markdown",
   "metadata": {},
   "source": [
    "<div class=\"response\">\n",
    "[Answer here]\n",
    "</div>"
   ]
  },
  {
   "cell_type": "markdown",
   "metadata": {},
   "source": [
    "**[Discuss first function as a group]**"
   ]
  },
  {
   "cell_type": "markdown",
   "metadata": {},
   "source": [
    "Now look at the next function, and try to understand how it works."
   ]
  },
  {
   "cell_type": "code",
   "execution_count": null,
   "metadata": {
    "collapsed": false
   },
   "outputs": [],
   "source": [
    "def wide_to_long(data, var_name, times=5):\n",
    "    \"\"\"Given columns of alter characteristics, stack them into one long column.\n",
    "    \n",
    "    Parameters\n",
    "    ----------\n",
    "    data : Table\n",
    "        The data table containing the alter characteristics\n",
    "    var_name : str\n",
    "        Text that contains the variable name; columns of the dataset should\n",
    "        match the pattern: alter[NUM]_[var_name]\n",
    "        For example, if var_name is 'age' then this function expects to find\n",
    "        columns in the survey dataset named \n",
    "        'alter1_age', 'alter2_age', 'alter3_age', 'alter4_age', and 'alter5_age'\n",
    "    times : int\n",
    "        The number of columns for each characteristic\n",
    "    \n",
    "    Returns\n",
    "    -------\n",
    "    np.array\n",
    "        A single array with the contents of all of the columns stacked on top of one another.\n",
    "    \n",
    "    Examples\n",
    "    --------\n",
    "    >>> wide_to_long(Table().with_columns(['alter1_age', [10, 15],\n",
    "                                           'alter2_age', [30, 35],\n",
    "                                           'alter3_age', [20, 15],\n",
    "                                           'alter4_age', [60, 70],\n",
    "                                           'alter5_age', [20, 25]]),\n",
    "                     'age')\n",
    "    \n",
    "    array([10, 15, 30, 35, 20, 15, 60, 70, 20, 25])\n",
    "    \"\"\"\n",
    "    new_col = np.concatenate([data.column('alter' + str(idx) + '_' + var_name) for idx in range(1,times+1)])\n",
    "    return new_col"
   ]
  },
  {
   "cell_type": "markdown",
   "metadata": {},
   "source": [
    "The key to understanding this second function is `np.concatenate`. Look up the help page for `np.concatenate`."
   ]
  },
  {
   "cell_type": "markdown",
   "metadata": {},
   "source": [
    "**Question** Use `np.concatenate` to make a single array that has the contents of `column_one` and `column_two` concatenated together:"
   ]
  },
  {
   "cell_type": "code",
   "execution_count": null,
   "metadata": {
    "collapsed": true
   },
   "outputs": [],
   "source": [
    "concat_table = Table().with_columns(['column_one', [1,3,5,7,9],\n",
    "                                    'column_two', [2,4,6,8,10]])\n",
    "## now use np.concatenate to concatenate column_one and column_two together\n",
    "..."
   ]
  },
  {
   "cell_type": "markdown",
   "metadata": {},
   "source": [
    "**[Discuss the second function as a group]**"
   ]
  },
  {
   "cell_type": "markdown",
   "metadata": {},
   "source": [
    "Here's an example of the `wide_to_long` function to give you a sense of how it works."
   ]
  },
  {
   "cell_type": "code",
   "execution_count": null,
   "metadata": {
    "collapsed": false
   },
   "outputs": [],
   "source": [
    "wide_to_long(Table().with_columns(['alter1_age', [10, 15],\n",
    "                                   'alter2_age', [30, 35],\n",
    "                                   'alter3_age', [20, 15],\n",
    "                                   'alter4_age', [60, 70],\n",
    "                                   'alter5_age', [20, 25]]),\n",
    "                     'age')"
   ]
  },
  {
   "cell_type": "markdown",
   "metadata": {},
   "source": [
    "We'll take a first try at converting the alter data to long format together, and then you'll do a more complete job as an exercise.\n",
    "\n",
    "For our first step, we'll only keep the respondent's id number and the age of the alters each respondent reported about. Since there is space for 5 alters per respondent, we expect (number of respondents x 5) = (79 x 5) = 395 rows in our resulting dataset."
   ]
  },
  {
   "cell_type": "code",
   "execution_count": null,
   "metadata": {
    "collapsed": false
   },
   "outputs": [],
   "source": [
    "alter_first_try = Table().with_columns([\n",
    "    'respondent_id', repeat_single_col(survey, 'respondent_id'),\n",
    "    'alter_age', wide_to_long(survey, 'age')])\n"
   ]
  },
  {
   "cell_type": "markdown",
   "metadata": {},
   "source": [
    "You can see that we want to use `repeat_single_col` for the column that is a respondent characteristic and that we want to use `wide_to_long` for the column that is an alter characteristic.\n",
    "\n",
    "Let's check that the resulting Table, called `alter_first_try` makes sense:"
   ]
  },
  {
   "cell_type": "code",
   "execution_count": null,
   "metadata": {
    "collapsed": false
   },
   "outputs": [],
   "source": [
    "alter_first_try.num_rows"
   ]
  },
  {
   "cell_type": "code",
   "execution_count": null,
   "metadata": {
    "collapsed": false
   },
   "outputs": [],
   "source": [
    "alter_first_try"
   ]
  },
  {
   "cell_type": "markdown",
   "metadata": {},
   "source": [
    "**Question** Fill in the missing parts of the statement below in order to double-check that each respondent appears five times in this dataset."
   ]
  },
  {
   "cell_type": "code",
   "execution_count": null,
   "metadata": {
    "collapsed": false
   },
   "outputs": [],
   "source": [
    "np.all(alter_first_try.group(...).column(...) == ...)"
   ]
  },
  {
   "cell_type": "markdown",
   "metadata": {},
   "source": [
    "**Question** Now it's your turn! Using the example above as a pattern, create a long dataset that has\n",
    "\n",
    "* respondent id\n",
    "* respondent age\n",
    "* respondent class\n",
    "* respondent home\n",
    "* alter age\n",
    "* alter gender\n",
    "* alter class\n",
    "* alter home\n",
    "\n",
    "Don't forget to perform a couple of checks to be sure the resulting datset makes sense (like we did above)."
   ]
  },
  {
   "cell_type": "code",
   "execution_count": null,
   "metadata": {
    "collapsed": true
   },
   "outputs": [],
   "source": [
    "alter_data = Table().with_columns([\n",
    "    'respondent_id', ...,\n",
    "    'respondent_age', ...,\n",
    "    'respondent_class', ...,\n",
    "    'respondent_home', ...,\n",
    "    'alter_age', ...,\n",
    "    'alter_gender', ...,\n",
    "    'alter_class', ...,\n",
    "    'alter_home', ...,])"
   ]
  },
  {
   "cell_type": "code",
   "execution_count": null,
   "metadata": {
    "collapsed": false
   },
   "outputs": [],
   "source": [
    "alter_data"
   ]
  },
  {
   "cell_type": "code",
   "execution_count": null,
   "metadata": {
    "collapsed": false
   },
   "outputs": [],
   "source": [
    "## double check that each respondent appears 5 times\n",
    "..."
   ]
  },
  {
   "cell_type": "markdown",
   "metadata": {},
   "source": [
    "### Ages of Berkeley students' confidants"
   ]
  },
  {
   "cell_type": "markdown",
   "metadata": {},
   "source": [
    "OK, now that we have created a long-form dataset, let's make use of it to learn about the people Berkeley students discuss important matters with."
   ]
  },
  {
   "cell_type": "markdown",
   "metadata": {},
   "source": [
    "**Question** Start by trying to make a histogram of the confidants' ages. (You will get an error -- read the error message and then see the next question.)"
   ]
  },
  {
   "cell_type": "code",
   "execution_count": null,
   "metadata": {
    "collapsed": true
   },
   "outputs": [],
   "source": [
    "..."
   ]
  },
  {
   "cell_type": "markdown",
   "metadata": {},
   "source": [
    "**Question** Use the `show()` method to browse `alter_data`"
   ]
  },
  {
   "cell_type": "code",
   "execution_count": null,
   "metadata": {
    "collapsed": true
   },
   "outputs": [],
   "source": [
    "..."
   ]
  },
  {
   "cell_type": "markdown",
   "metadata": {},
   "source": [
    "You get an error message because some of the rows of the dataset have `nan` or 'not a number' for the value of age. Why? Because not every respondent reported 5 alters. So we need to filter our dataset down to only have data from actual reports about alters.\n",
    "\n",
    "We will do this by assuming that if `alter_age` is `nan`, then no alter was reported about."
   ]
  },
  {
   "cell_type": "markdown",
   "metadata": {},
   "source": [
    "**Question** Use a `where` statement to keep only the rows of `alter_data` that do **not** have an `nan` value for `alter_age`.<BR>\n",
    "*[HINT 1: this is a little tricky. Check out the `np.isnan` function.]*<BR>\n",
    "*[HINT 2: you can flip an array of Boolean values by using `~`. So `~ [False, True, False]` equals `[True, False, True].`*"
   ]
  },
  {
   "cell_type": "code",
   "execution_count": null,
   "metadata": {
    "collapsed": false
   },
   "outputs": [],
   "source": [
    "# demonstration of the ~ operator (see HINT 2)\n",
    "~np.array([False, True, False])"
   ]
  },
  {
   "cell_type": "code",
   "execution_count": null,
   "metadata": {
    "collapsed": false
   },
   "outputs": [],
   "source": [
    "..."
   ]
  },
  {
   "cell_type": "markdown",
   "metadata": {},
   "source": [
    "Check that your newly filtered Table has 347 rows:"
   ]
  },
  {
   "cell_type": "code",
   "execution_count": null,
   "metadata": {
    "collapsed": true
   },
   "outputs": [],
   "source": [
    "..."
   ]
  },
  {
   "cell_type": "markdown",
   "metadata": {},
   "source": [
    "**Question** Now make a histogram of the ages of the alters. Be sure to choose sensible bins."
   ]
  },
  {
   "cell_type": "code",
   "execution_count": null,
   "metadata": {
    "collapsed": true
   },
   "outputs": [],
   "source": [
    "..."
   ]
  },
  {
   "cell_type": "markdown",
   "metadata": {},
   "source": [
    "**Question** Now make a histogram of the survey respondents' ages.  (Please be sure that the bins you use are sensible.)<BR>\n",
    "*[HINT: think carefully about which dataset you should use here.]*"
   ]
  },
  {
   "cell_type": "code",
   "execution_count": null,
   "metadata": {
    "collapsed": false
   },
   "outputs": [],
   "source": [
    "..."
   ]
  },
  {
   "cell_type": "markdown",
   "metadata": {},
   "source": [
    "**Question** Compare the two histograms. What does this tell you about homophily among confidants?"
   ]
  },
  {
   "cell_type": "markdown",
   "metadata": {},
   "source": [
    "<div class='response'>\n",
    "[Answer here]\n",
    "</div>"
   ]
  },
  {
   "cell_type": "markdown",
   "metadata": {},
   "source": [
    "**[Discuss as a group]**"
   ]
  },
  {
   "cell_type": "markdown",
   "metadata": {},
   "source": [
    "**Question** Now make a scatter plot comparing the ages of survey respondents and the ages of the alters."
   ]
  },
  {
   "cell_type": "code",
   "execution_count": null,
   "metadata": {
    "collapsed": false
   },
   "outputs": [],
   "source": [
    "..."
   ]
  },
  {
   "cell_type": "markdown",
   "metadata": {},
   "source": [
    "**Question** What does this scatter plot tell you about homophily among confidants?"
   ]
  },
  {
   "cell_type": "markdown",
   "metadata": {},
   "source": [
    "<div class='response'>\n",
    "[Answer here]\n",
    "</div>"
   ]
  },
  {
   "cell_type": "markdown",
   "metadata": {},
   "source": [
    "### Class year of Berkeley students' confidants"
   ]
  },
  {
   "cell_type": "markdown",
   "metadata": {},
   "source": [
    "In this section, we will start to explore the relationship between respondents' class years and their alters' class years. Our approach will be to walk through one example -- the alters reported by freshmen -- in detail. Then, we will write a function to easily allow us to repeat our analysis for sophomores, juniors, and seniors."
   ]
  },
  {
   "cell_type": "markdown",
   "metadata": {},
   "source": [
    "**Question** First, let us look at the distribution of class year among all of the confidants reported. First use `group` to make a simple table with the counts of alters by class year."
   ]
  },
  {
   "cell_type": "code",
   "execution_count": null,
   "metadata": {
    "collapsed": false
   },
   "outputs": [],
   "source": [
    "..."
   ]
  },
  {
   "cell_type": "markdown",
   "metadata": {},
   "source": [
    "**Question** Now make a bar plot that shows those counts graphically."
   ]
  },
  {
   "cell_type": "code",
   "execution_count": null,
   "metadata": {
    "collapsed": false
   },
   "outputs": [],
   "source": [
    "..."
   ]
  },
  {
   "cell_type": "markdown",
   "metadata": {},
   "source": [
    "**Question** Make another bar plot that shows the class years of survey respondents. (Be careful to pick the right dataset to use here.)"
   ]
  },
  {
   "cell_type": "code",
   "execution_count": null,
   "metadata": {
    "collapsed": false
   },
   "outputs": [],
   "source": [
    "..."
   ]
  },
  {
   "cell_type": "markdown",
   "metadata": {},
   "source": [
    "Now that we have a sense of what all respondents and all of the alters look like, we can dig into the alters of freshmen.\n",
    "\n",
    "**Question** Create a new Table that only has alters reported by respondents who are sophomores"
   ]
  },
  {
   "cell_type": "code",
   "execution_count": null,
   "metadata": {
    "collapsed": false
   },
   "outputs": [],
   "source": [
    "alters_of_sophomores = ..."
   ]
  },
  {
   "cell_type": "markdown",
   "metadata": {},
   "source": [
    "**Question** Make a plot that shows the class years reported by alters of sophomores."
   ]
  },
  {
   "cell_type": "code",
   "execution_count": null,
   "metadata": {
    "collapsed": false
   },
   "outputs": [],
   "source": [
    "..."
   ]
  },
  {
   "cell_type": "markdown",
   "metadata": {},
   "source": [
    "**Question** Make a function called `plot_alter_class` that makes a plot of the class years of alters reported by respondents in a particular class. Your function should take as its arguments\n",
    "\n",
    "* `data` - the alter dataset\n",
    "* `class_year` - the class year of respondents to focus on\n",
    "    \n",
    "For example, running\n",
    "\n",
    "    plot_alter_class(alter_data, 'Freshman')\n",
    "\n",
    "should produce the plot you just made above."
   ]
  },
  {
   "cell_type": "code",
   "execution_count": null,
   "metadata": {
    "collapsed": true
   },
   "outputs": [],
   "source": [
    "def plot_alter_class(data, class_year):\n",
    "    ...\n",
    "    ..."
   ]
  },
  {
   "cell_type": "markdown",
   "metadata": {},
   "source": [
    "**Question** Use your function to produce plots of the class years of the alters of freshmen, sophomores, juniors, and seniors."
   ]
  },
  {
   "cell_type": "code",
   "execution_count": null,
   "metadata": {
    "collapsed": true
   },
   "outputs": [],
   "source": [
    "# freshmen\n",
    "..."
   ]
  },
  {
   "cell_type": "code",
   "execution_count": null,
   "metadata": {
    "collapsed": true
   },
   "outputs": [],
   "source": [
    "# sophomores\n",
    "..."
   ]
  },
  {
   "cell_type": "code",
   "execution_count": null,
   "metadata": {
    "collapsed": true
   },
   "outputs": [],
   "source": [
    "# juniors\n",
    "..."
   ]
  },
  {
   "cell_type": "code",
   "execution_count": null,
   "metadata": {
    "collapsed": true
   },
   "outputs": [],
   "source": [
    "# seniors\n",
    "..."
   ]
  },
  {
   "cell_type": "markdown",
   "metadata": {},
   "source": [
    "**Question** Do you see evidence of homophily with respect to class year?"
   ]
  },
  {
   "cell_type": "markdown",
   "metadata": {},
   "source": [
    "<div class='response'>\n",
    "[Answer here]\n",
    "</class>"
   ]
  },
  {
   "cell_type": "markdown",
   "metadata": {},
   "source": [
    "### Home of Berkeley students' confidants"
   ]
  },
  {
   "cell_type": "markdown",
   "metadata": {},
   "source": [
    "**Question** Following the patterns we used above, look for evidence of homophily with respect to home. Please be sure to:\n",
    "\n",
    "* start by looking at the distribution of all of the data, before looking at subgroups (like we did above)\n",
    "* write a function to save having to repeat code over and over\n",
    "* make plots to visualize your results"
   ]
  },
  {
   "cell_type": "code",
   "execution_count": null,
   "metadata": {
    "collapsed": false
   },
   "outputs": [],
   "source": [
    "# home of all alters\n",
    "..."
   ]
  },
  {
   "cell_type": "code",
   "execution_count": null,
   "metadata": {
    "collapsed": false
   },
   "outputs": [],
   "source": [
    "# home of all respondents\n",
    "..."
   ]
  },
  {
   "cell_type": "code",
   "execution_count": null,
   "metadata": {
    "collapsed": false
   },
   "outputs": [],
   "source": [
    "# function\n",
    "...\n",
    "...\n",
    "..."
   ]
  },
  {
   "cell_type": "code",
   "execution_count": null,
   "metadata": {
    "collapsed": true
   },
   "outputs": [],
   "source": [
    "# plot for respondents from Bay Area\n",
    "\n",
    "# plot for respondents from LA Area\n",
    "\n",
    "# plot for respondents from Rest of California\n",
    "\n",
    "# plot for respondents from Rest of United States\n",
    "\n",
    "# plot for respondents from Rest of World"
   ]
  },
  {
   "cell_type": "markdown",
   "metadata": {},
   "source": [
    "**Question** Did you find evidence suggestive of homophily with respect to where people are from?"
   ]
  },
  {
   "cell_type": "markdown",
   "metadata": {},
   "source": [
    "<div class='response'>\n",
    "[Answer here]\n",
    "</div>"
   ]
  },
  {
   "cell_type": "markdown",
   "metadata": {},
   "source": [
    "**Question** We looked at age, class year, and where people are from. Which of these do you think had the most homophily, and which had the least?"
   ]
  },
  {
   "cell_type": "markdown",
   "metadata": {},
   "source": [
    "<div class='response'>\n",
    "[Answer here]\n",
    "</div>"
   ]
  },
  {
   "cell_type": "markdown",
   "metadata": {},
   "source": [
    "**Challenge Question (optional)** Can you think of a way to try to quantify the extent of homophily in a network? What properties would you want such a metric to have?"
   ]
  },
  {
   "cell_type": "markdown",
   "metadata": {},
   "source": [
    "<div class='response'>\n",
    "[Answer here]\n",
    "</div>"
   ]
  },
  {
   "cell_type": "markdown",
   "metadata": {},
   "source": [
    "**Question** In order to test the OK infrastructure I've set up, please see if the following test passes. (Don't worry about the output -- please just run this cell so that I can see whether or not it works in your notebook.)"
   ]
  },
  {
   "cell_type": "code",
   "execution_count": null,
   "metadata": {
    "collapsed": true
   },
   "outputs": [],
   "source": [
    "from client.api.notebook import Notebook\n",
    "ok = Notebook('lab02.ok')                     # change this line to correct .ok file\n",
    "_ = ok.auth(inline=True)\n",
    "\n",
    "x = 9182017\n",
    "_ = ok.grade(\"q1\")"
   ]
  },
  {
   "cell_type": "markdown",
   "metadata": {},
   "source": [
    "### Submit the lab"
   ]
  },
  {
   "cell_type": "markdown",
   "metadata": {},
   "source": [
    "You're almost done! Now please create a pdf version of your completed lab by **either**:\n",
    "\n",
    "* printing your notebook to a pdf file\n",
    "* going to the Jupyter 'File' menu, choosing 'Download as' and then 'PDF via LaTeX (.pdf)'. \n",
    "\n",
    "Please save the resulting .pdf on your computer and then **submit the .pdf on bcourses**."
   ]
  },
  {
   "cell_type": "markdown",
   "metadata": {},
   "source": [
    "**The lab must be submitted by the end of the day on Monday, Sep. 19**"
   ]
  },
  {
   "cell_type": "code",
   "execution_count": null,
   "metadata": {
    "collapsed": true
   },
   "outputs": [],
   "source": []
  }
 ],
 "metadata": {
  "kernelspec": {
   "display_name": "Python [default]",
   "language": "python",
   "name": "python3"
  },
  "language_info": {
   "codemirror_mode": {
    "name": "ipython",
    "version": 3
   },
   "file_extension": ".py",
   "mimetype": "text/x-python",
   "name": "python",
   "nbconvert_exporter": "python",
   "pygments_lexer": "ipython3",
   "version": "3.5.2"
  }
 },
 "nbformat": 4,
 "nbformat_minor": 1
}
