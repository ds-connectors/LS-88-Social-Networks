{
 "cells": [
  {
   "cell_type": "code",
   "execution_count": 5,
   "metadata": {
    "collapsed": false
   },
   "outputs": [
    {
     "name": "stderr",
     "output_type": "stream",
     "text": [
      "//anaconda/lib/python3.5/site-packages/matplotlib/__init__.py:1357: UserWarning:  This call to matplotlib.use() has no effect\n",
      "because the backend has already been chosen;\n",
      "matplotlib.use() must be called *before* pylab, matplotlib.pyplot,\n",
      "or matplotlib.backends is imported for the first time.\n",
      "\n",
      "  warnings.warn(_use_error_msg)\n"
     ]
    },
    {
     "data": {
      "text/html": [
       "<style>\n",
       ".imagesource {\n",
       "    font-size: xx-small;\n",
       "}\n",
       ".response {\n",
       "    background-color: #00CCCC;\n",
       "}\n",
       ".solution {\n",
       "    background-color: #CC77CC;\n",
       "}\n",
       "</style>\n"
      ],
      "text/plain": [
       "<IPython.core.display.HTML object>"
      ]
     },
     "execution_count": 5,
     "metadata": {},
     "output_type": "execute_result"
    }
   ],
   "source": [
    "from IPython.core.display import HTML\n",
    "from datascience import *\n",
    "\n",
    "import matplotlib\n",
    "matplotlib.use('Agg')\n",
    "%matplotlib inline\n",
    "import matplotlib.pyplot as plt\n",
    "import numpy as np\n",
    "import os\n",
    "plt.style.use('fivethirtyeight')\n",
    "\n",
    "import networkx as nx\n",
    "\n",
    "def css_styling():\n",
    "    styles = open('../notebook_styles.css', 'r').read()\n",
    "    return HTML(styles)\n",
    "css_styling()"
   ]
  },
  {
   "cell_type": "markdown",
   "metadata": {},
   "source": [
    "## Lab 07 - Enriching network data and testing a hypothesis"
   ]
  },
  {
   "cell_type": "markdown",
   "metadata": {},
   "source": [
    "Last week, we introduced a new theoretical concept: triadic closure. We learned that this idea predicts that social networks will tend to have clumps of densely interconnected groups of nodes. We explored this idea by comparing real social networks to simulated Erdos Renyi random networks.\n",
    "\n",
    "This week, we're going to continue what we started by building up to calculating a $p$ value. We'll be looking at homophily, rather than transitive closure this time."
   ]
  },
  {
   "cell_type": "markdown",
   "metadata": {},
   "source": [
    "## Attributes of nodes\n",
    "\n",
    "So far, we have seen that there is a lot we can learn about social networks by just studying their structure---i.e., by investigating the patterns of nodes and edges. However, since social networks are typically made of people, we know that that only studying their structure leaves a lot of potentially important information out of our analysis. People are not all the same, and so reducing people to identical nodes in a network can be too simplistic to accurately learn about the social processes that a network is a part of.\n",
    "\n",
    "Today, we're going to start to enrich the complete network datset that we have been learning about by adding additional information about who is in the nodes. We'll continue to work with the theoretical idea of homophily, which we have discussed in a few previous classes."
   ]
  },
  {
   "cell_type": "markdown",
   "metadata": {},
   "source": [
    "### Defining homophily mathematically\n",
    "\n",
    "If a network's nodes can be divided into discrete groups, then a quantitative metric for the amount of homophily in a network was proposed by [Newman](https://journals.aps.org/pre/pdf/10.1103/PhysRevE.67.026126). We'll work with this metric today.\n",
    "\n",
    "* suppose that the nodes can all be divided into discrete groups\n",
    "* let $a_i$ be the fraction of ends of edges ('stubs') in a network that are connected to nodes in group $i$\n",
    "* let $e_{ij}$ be the fraction of edges in a network ('stubs') that connect nodes in group $i$ to nodes in group $j$\n",
    "\n",
    "\n",
    "Newman's *assortativity coefficient* is:\n",
    "\n",
    "$$r = \\frac{\\sum_i e_{ii} - \\sum_i a_i^2}{1 - \\sum_i a_i^2}$$\n",
    "\n",
    "* when $r=0$, then there is no assortativity\n",
    "* when $r>0$, then there is assortativity -- i.e., members of the same group tend to be more connected to each other than to other groups. At the extreme, when $r=1$, all network connections are within groups.\n",
    "* when $r<0$, then there is disassortativity -- i.e., members of the same group are less likely to be connected to each other than to other groups.\n",
    "\n",
    "For two groups, we can write the assortativity coefficient as\n",
    "\n",
    "$$r = \\frac{e_{11} + e_{22} - a_1^2 - a_2^2}{1 - a_1^2 - a_2^2}$$"
   ]
  },
  {
   "cell_type": "markdown",
   "metadata": {},
   "source": [
    "### Group example"
   ]
  },
  {
   "cell_type": "markdown",
   "metadata": {},
   "source": [
    "<img src='example_network_groups3.png'>"
   ]
  },
  {
   "cell_type": "markdown",
   "metadata": {},
   "source": [
    "**Group Discussion Question** Does this network look homophilous?"
   ]
  },
  {
   "cell_type": "markdown",
   "metadata": {},
   "source": [
    "**Group Discussion Question** Calculate the assortatitivty coefficient in the example network:\n",
    "\n",
    "|             |  degree |   group |\n",
    "|   :----:    |  :---:  |   :---: |\n",
    "|   node 1    |    1    |    blue |\n",
    "|   node 2    |    2    |    red  |\n",
    "|   node 3    |    5    |    blue |\n",
    "|   node 4    |    1    |    red  |\n",
    "|   node 5    |    2    |    blue |\n",
    "|   node 6    |    1    |    red  |\n",
    "|   node 7    |    2    |    red  |\n",
    "|   node 8    |    2    |    blue |\n",
    "\n",
    "\n",
    "\n",
    "*Stub counts*\n",
    "\n",
    "|             | blue | red   |\n",
    "|   :----:    | :---:| :---: |\n",
    "|   blue      |  ?   |  ?    |\n",
    "|   red       |  ?   |  ?    |\n",
    "\n",
    "*Stub totals*\n",
    "\n",
    "|             |  total degree | $a_i$ |\n",
    "|   :----:    |  :---:        | :---: |\n",
    "|   blue      |    ?          | ?     |\n",
    "|   red       |    ?          | ?     |\n",
    "\n",
    "*$e_{ij}$ matrix*\n",
    "\n",
    "|             |  blue | red   |\n",
    "|   :----:    |  :---:| :---: |\n",
    "|   blue      |  ?    |  ?    |\n",
    "|   red       |  ?    |  ?    |"
   ]
  },
  {
   "cell_type": "markdown",
   "metadata": {},
   "source": [
    "<div class='response'>\n",
    "*assortativity coefficient* $r$ = [answer here]\n",
    "</div>"
   ]
  },
  {
   "cell_type": "markdown",
   "metadata": {},
   "source": [
    "### [Randomize partners]"
   ]
  },
  {
   "cell_type": "markdown",
   "metadata": {},
   "source": [
    "**Question** Write your name here"
   ]
  },
  {
   "cell_type": "markdown",
   "metadata": {},
   "source": [
    "<div class='response'>\n",
    "[answer here]\n",
    "</div>"
   ]
  },
  {
   "cell_type": "markdown",
   "metadata": {},
   "source": [
    "**Question** Write your partner's name here"
   ]
  },
  {
   "cell_type": "markdown",
   "metadata": {},
   "source": [
    "<div class='response'>\n",
    "[answer here]\n",
    "</div>"
   ]
  },
  {
   "cell_type": "markdown",
   "metadata": {},
   "source": [
    "**Question** Write your partner's favorite ice cream flavor here"
   ]
  },
  {
   "cell_type": "markdown",
   "metadata": {},
   "source": [
    "<div class='response'>\n",
    "[answer here]\n",
    "</div>"
   ]
  },
  {
   "cell_type": "markdown",
   "metadata": {},
   "source": [
    "OK, back to work. Now we'll use the `networkx` package to check the results of the calculation we performed above. This will  give us a chance to learn about how the package handles node attributes."
   ]
  },
  {
   "cell_type": "markdown",
   "metadata": {},
   "source": [
    "**Question** Create a `networkx` graph called `test` that represents the example network above.<BR>\n",
    "*[Hint: you can enter this network as an edgelist]*"
   ]
  },
  {
   "cell_type": "code",
   "execution_count": null,
   "metadata": {
    "collapsed": false
   },
   "outputs": [],
   "source": [
    "test = nx.Graph([...])"
   ]
  },
  {
   "cell_type": "markdown",
   "metadata": {},
   "source": [
    "The pattern below shows us how to tell `networkx` that there is a node attribute called 'color', and it shows us how to explicitly add the color of each node:"
   ]
  },
  {
   "cell_type": "code",
   "execution_count": 41,
   "metadata": {
    "collapsed": true
   },
   "outputs": [],
   "source": [
    "nx.set_node_attributes(test,\n",
    "                       'color',\n",
    "                       ## this is a dictionary, which maps each node id to its color\n",
    "                       {1 : 'blue',\n",
    "                        2 : 'red',\n",
    "                        3 : 'blue',\n",
    "                        4 : 'red',\n",
    "                        5 : 'blue',\n",
    "                        6 : 'red',\n",
    "                        7 : 'red',\n",
    "                        8 : 'blue'})"
   ]
  },
  {
   "cell_type": "markdown",
   "metadata": {},
   "source": [
    "See the help page for [`set_node_attributes`](https://networkx.github.io/documentation/networkx-1.9/reference/generated/networkx.classes.function.set_node_attributes.html) for more information on working with attributes."
   ]
  },
  {
   "cell_type": "markdown",
   "metadata": {},
   "source": [
    "You can check the matrix of $e_{ij}$ values by using the function `nx.attribute_mixing_matrix`:"
   ]
  },
  {
   "cell_type": "code",
   "execution_count": 42,
   "metadata": {
    "collapsed": false
   },
   "outputs": [
    {
     "data": {
      "text/plain": [
       "array([[ 0.25 ,  0.375],\n",
       "       [ 0.375,  0.   ]])"
      ]
     },
     "execution_count": 42,
     "metadata": {},
     "output_type": "execute_result"
    }
   ],
   "source": [
    "nx.attribute_mixing_matrix(test, 'color')"
   ]
  },
  {
   "cell_type": "markdown",
   "metadata": {},
   "source": [
    "Note that, by default, the order of the columns of the mixing matrix is not specified. If you want to be able to interpret the columns, you can pass in a dictionary that maps the different attribtues to column numbers like we do below:"
   ]
  },
  {
   "cell_type": "code",
   "execution_count": 43,
   "metadata": {
    "collapsed": false
   },
   "outputs": [
    {
     "data": {
      "text/plain": [
       "array([[ 0.25 ,  0.375],\n",
       "       [ 0.375,  0.   ]])"
      ]
     },
     "execution_count": 43,
     "metadata": {},
     "output_type": "execute_result"
    }
   ],
   "source": [
    "nx.attribute_mixing_matrix(test, 'color', mapping = {'red' : 1, 'blue' : 0})"
   ]
  },
  {
   "cell_type": "markdown",
   "metadata": {},
   "source": [
    "We can calculate the value of the assortativity coefficient using the `nx.attribute_assortativity_coefficient` function:"
   ]
  },
  {
   "cell_type": "code",
   "execution_count": 9,
   "metadata": {
    "collapsed": false
   },
   "outputs": [
    {
     "data": {
      "text/plain": [
       "-0.6"
      ]
     },
     "execution_count": 9,
     "metadata": {},
     "output_type": "execute_result"
    }
   ],
   "source": [
    "nx.attribute_assortativity_coefficient(test, 'color')"
   ]
  },
  {
   "cell_type": "markdown",
   "metadata": {},
   "source": [
    "**Question** With your partner, look at the next example network. Does it look more or less homophilous by color than the one above?"
   ]
  },
  {
   "cell_type": "markdown",
   "metadata": {},
   "source": [
    "<img src='example_network_groups2.png'>"
   ]
  },
  {
   "cell_type": "markdown",
   "metadata": {},
   "source": [
    "<div class='response'>\n",
    "[answer here]\n",
    "</div>"
   ]
  },
  {
   "cell_type": "markdown",
   "metadata": {},
   "source": [
    "**Question** With your partner, calculate the assortativity coefficient for this network by filling in the missing quantities below."
   ]
  },
  {
   "cell_type": "markdown",
   "metadata": {},
   "source": [
    "\n",
    "\n",
    "|             |  degree |   group |\n",
    "|   :----:    |  :---:  |   :---: |\n",
    "|   node 1    |    1    |    blue |\n",
    "|   node 2    |    2    |    red  |\n",
    "|   node 3    |    5    |    blue |\n",
    "|   node 4    |    1    |    blue  |\n",
    "|   node 5    |    2    |    red |\n",
    "|   node 6    |    1    |    red  |\n",
    "|   node 7    |    2    |    blue  |\n",
    "|   node 8    |    2    |    blue |\n",
    "\n",
    "\n",
    "*Stub counts*\n",
    "\n",
    "|             | blue | red   |\n",
    "|   :----:    | :---:| :---: |\n",
    "|   blue      |  ?   |  ?    |\n",
    "|   red       |  ?   |  ?    |\n",
    "\n",
    "*Stub totals*\n",
    "\n",
    "|             |  total degree | $a_i$ |\n",
    "|   :----:    |  :---:        | :---: |\n",
    "|   blue      |    ?          | ?     |\n",
    "|   red       |    ?          | ?     |\n",
    "\n",
    "*$e_{ij}$ matrix*\n",
    "\n",
    "|             |  blue | red   |\n",
    "|   :----:    |  :---:| :---: |\n",
    "|   blue      |  ?    |  ?    |\n",
    "|   red       |  ?    |  ?    |"
   ]
  },
  {
   "cell_type": "markdown",
   "metadata": {},
   "source": [
    "<div class='response'>\n",
    "*assortativity coefficient* $r$ = [answer here]\n",
    "</div>"
   ]
  },
  {
   "cell_type": "markdown",
   "metadata": {},
   "source": [
    "   \n",
    "   \n",
    "Now we will check your answers using the `netowrkx` package."
   ]
  },
  {
   "cell_type": "markdown",
   "metadata": {},
   "source": [
    "**Question** Create a Graph object called `test2` that has the network whose assortativity you just calculated."
   ]
  },
  {
   "cell_type": "code",
   "execution_count": null,
   "metadata": {
    "collapsed": false
   },
   "outputs": [],
   "source": [
    "test2 = nx.Graph([...])\n",
    "nx.set_node_attributes(test2,\n",
    "                       'color',\n",
    "                       ...)\n",
    "\n",
    "## check that your network looks right\n",
    "nx.draw(test2, \n",
    "        node_color=list(nx.get_node_attributes(test2, 'color').values()),\n",
    "        with_labels=True)"
   ]
  },
  {
   "cell_type": "markdown",
   "metadata": {},
   "source": [
    "**Question** Print out the mixing matrix for the network `test2`. Be sure to order the columns so that the first column corresponds to blue nodes and the second column corresponds to red nodes."
   ]
  },
  {
   "cell_type": "code",
   "execution_count": 45,
   "metadata": {
    "collapsed": false
   },
   "outputs": [
    {
     "data": {
      "text/plain": [
       "array([[ 0.625 ,  0.0625],\n",
       "       [ 0.0625,  0.25  ]])"
      ]
     },
     "execution_count": 45,
     "metadata": {},
     "output_type": "execute_result"
    }
   ],
   "source": [
    "nx.attribute_mixing_matrix(..., ..., ...)"
   ]
  },
  {
   "cell_type": "markdown",
   "metadata": {},
   "source": [
    "**Question** Print out the assortativity coefficient for node color in the network `test2`."
   ]
  },
  {
   "cell_type": "code",
   "execution_count": 46,
   "metadata": {
    "collapsed": false
   },
   "outputs": [
    {
     "data": {
      "text/plain": [
       "0.7090909090909091"
      ]
     },
     "execution_count": 46,
     "metadata": {},
     "output_type": "execute_result"
    }
   ],
   "source": [
    "nx.attribute_assortativity_coefficient(..., ...)"
   ]
  },
  {
   "cell_type": "markdown",
   "metadata": {},
   "source": [
    "### Reading Add Health attributes"
   ]
  },
  {
   "cell_type": "markdown",
   "metadata": {},
   "source": [
    "Recall that the Add Health dataset we have been working with stores information about network connections in an edge list.  The Add Health dataset also has information about the nodes; it has their grade, their gender, and their race/ethnicity. The code below will read all of this information in for you.\n",
    "\n",
    "Note that there were problems with two of the Add Health networks' node data, so we'll leave those two out. Our set of Add Health networks is thus 82 nodes instead of 84 for today."
   ]
  },
  {
   "cell_type": "code",
   "execution_count": 59,
   "metadata": {
    "collapsed": true
   },
   "outputs": [],
   "source": [
    "def read_add_health_edges(network_id):\n",
    "    \"\"\"\n",
    "    network_id : integer from 1 to 84\n",
    "    \n",
    "    read in the Add Health network corresponding to the given id number and\n",
    "    return it as an undirected networkx object\n",
    "    \"\"\"\n",
    "\n",
    "    # this file was downloaded from\n",
    "    # http://moreno.ss.uci.edu/data.html#adhealth\n",
    "    edge_file = os.path.join(\"..\", \"data\", \"add-health\", \"comm\" + str(network_id) + \".dat\")\n",
    "    with open(edge_file, 'r') as f:\n",
    "        edge_lines = f.readlines()\n",
    "        \n",
    "    network = nx.parse_edgelist(edge_lines, nodetype=int, data=[('activity_level', float)])\n",
    "    \n",
    "    # note that we call the to_undirected method to ensure we get an undirected network\n",
    "    return(network.to_undirected())\n",
    "\n",
    "def read_add_health_attributes_oneperrow(network_id, net):\n",
    "    \"\"\"\n",
    "    Read in an Add Health attributes file that has one attribute per row\n",
    "    \"\"\"\n",
    "    att_file = os.path.join(\"..\", \"data\", \"add-health\", \"comm\" + str(network_id) + \"_att.dat\")\n",
    "    with open(att_file, 'r') as f:\n",
    "        att_lines = f.readlines()\n",
    "    \n",
    "    # the first 8 lines are meta-info and not actual data\n",
    "    att_lines = att_lines[8:]\n",
    "    \n",
    "    node_races = {}\n",
    "    node_grades = {}\n",
    "    node_sexes = {}\n",
    "\n",
    "    for cur_id in net.nodes():\n",
    "        \n",
    "        print(\"starting node \", cur_id)\n",
    "        \n",
    "        # the attributes are stored one per line for each node in sequence (race / sex / grade)\n",
    "        # so line 0 is node 1's race, line 2 is node 1's sex, line 3 is node 1's grade, line 4 is node 2's race, etc\n",
    "        start_idx = (cur_id-1) * 3\n",
    "        this_race = str.split(g_att[start_idx])[2]\n",
    "        this_sex = str.split(g_att[start_idx+1])[2]\n",
    "        this_grade = str.split(g_att[start_idx+2])[2]\n",
    "    \n",
    "        node_races[cur_id] = this_race\n",
    "        node_grades[cur_id] = this_grade\n",
    "        node_sexes[cur_id] = this_sex\n",
    "    \n",
    "    nx.set_node_attributes(net, 'race', node_races)\n",
    "    nx.set_node_attributes(net, 'grade', node_grades)\n",
    "    nx.set_node_attributes(net, 'sex', node_sexes)\n",
    "    \n",
    "    return(net)\n",
    "\n",
    "def read_add_health_attributes(network_id, net):\n",
    "    \"\"\"\n",
    "    Read in an Add Health attributes file that has one row per node\n",
    "    \"\"\"\n",
    "    \n",
    "    # open up the attributes datafile\n",
    "    att_file = os.path.join(\"..\", \"data\", \"add-health\", \"comm\" + str(network_id) + \"_att.dat\")\n",
    "    with open(att_file, 'r') as f:\n",
    "        att_lines = f.readlines()\n",
    "        \n",
    "    # the first several lines are meta-info and not actual data;\n",
    "    # the data start once we see \"DATA:\\n\"\n",
    "    header_start = att_lines.index(\"COLUMN LABELS:\\n\") + 1\n",
    "    header_end = att_lines.index(\"DATA:\\n\")\n",
    "    data_start = header_end + 1\n",
    "    \n",
    "    # build up a list that maps column index to column name\n",
    "    col_defs = []\n",
    "    # build up a dict that has the data for each variable\n",
    "    col_data = {}\n",
    "    \n",
    "    for colindex, lineidx in enumerate(range(header_start, header_end)):\n",
    "        # strip off the newline and the starting/ending quotes of the column name\n",
    "        this_name = (str.strip(att_lines[lineidx])[1:-1]).lower()\n",
    "        col_defs.append(this_name)\n",
    "        # initialize the data for this column to empty dict\n",
    "        col_data[this_name] = {}  \n",
    "    \n",
    "    att_lines = att_lines[data_start:]\n",
    "    \n",
    "    # for each row (corresponding to one node's data)\n",
    "    # split the columns up and stick them into the appropriate\n",
    "    # dict, with node id as key and attribute value as value\n",
    "    for cur_id in net.nodes():\n",
    "        #print('starting node ', cur_id)\n",
    "        these_data = str.split(att_lines[cur_id - 1])\n",
    "        \n",
    "        for colidx, dat in enumerate(these_data):\n",
    "            col_data[col_defs[colidx]][cur_id] = dat\n",
    "\n",
    "    # take the data and assign it to the nodes in the graph object\n",
    "    for var in col_defs:\n",
    "        nx.set_node_attributes(net, var, col_data[var])\n",
    "    \n",
    "    return(net)\n",
    "\n",
    "def read_add_health_network(network_id):\n",
    "    \"\"\"\n",
    "    Read in an Add Health network, including the node attributes\n",
    "    \"\"\"\n",
    "    \n",
    "    this_net = read_add_health_edges(network_id)\n",
    "    this_net = read_add_health_attributes(network_id, this_net)\n",
    "    \n",
    "    return(this_net)"
   ]
  },
  {
   "cell_type": "markdown",
   "metadata": {},
   "source": [
    "Having loaded those functions, we can use the `read_add_health_network` function to load the datsets into memory:"
   ]
  },
  {
   "cell_type": "code",
   "execution_count": 60,
   "metadata": {
    "collapsed": true
   },
   "outputs": [],
   "source": [
    "# EXCEPTIONS: networks 1 and 48 have formatting problems, so we'll omit them today\n",
    "add_health_ids = [x for x in range(2, 85) if x != 48]\n",
    "add_health_networks = [read_add_health_network(x) for x in add_health_ids]"
   ]
  },
  {
   "cell_type": "markdown",
   "metadata": {},
   "source": [
    "### Exploring network attributes"
   ]
  },
  {
   "cell_type": "markdown",
   "metadata": {},
   "source": [
    "We'll start by looking at the fraction of students in one school that is male."
   ]
  },
  {
   "cell_type": "markdown",
   "metadata": {},
   "source": [
    "Looking at the [dataset information](http://moreno.ss.uci.edu/data.html#adhealth), you can see that the Add Health sex variable has the values 1=male, 2=female, and 0=unreported."
   ]
  },
  {
   "cell_type": "markdown",
   "metadata": {},
   "source": [
    "**Question** Use the `get_node_attributes` function to grab the sexes of the students in the first school by filling in the code below."
   ]
  },
  {
   "cell_type": "code",
   "execution_count": null,
   "metadata": {
    "collapsed": false
   },
   "outputs": [],
   "source": [
    "net = add_health_networks[0]\n",
    "sexes = nx.get_node_attributes(..., ...)\n",
    "sexes"
   ]
  },
  {
   "cell_type": "markdown",
   "metadata": {},
   "source": [
    "It turns out that the `get_node_attributes` function returns a dictionary, but we will find it easier to work with `numpy` arrays. To convert the dictionary values into an array, use the following code:"
   ]
  },
  {
   "cell_type": "code",
   "execution_count": 63,
   "metadata": {
    "collapsed": false
   },
   "outputs": [
    {
     "data": {
      "text/plain": [
       "array(['2', '1', '2', '1', '1', '1', '2', '1', '1', '1', '2', '1', '1',\n",
       "       '1', '2', '1', '1', '2', '1', '1', '2', '1', '1', '1', '2', '2',\n",
       "       '1', '2', '1', '1', '2', '1', '1', '1', '1', '1', '1', '2', '2',\n",
       "       '1', '1', '1', '1', '2', '1', '1', '2', '1', '1', '2', '2', '2',\n",
       "       '1', '2', '1', '1', '2', '1', '1', '1', '1', '1', '1', '2', '1',\n",
       "       '2', '1', '1', '2', '2', '2', '1', '2', '2', '2', '1', '2', '1',\n",
       "       '2', '2', '1', '2', '1', '1', '1', '2', '1', '2', '1', '1', '2',\n",
       "       '1', '1', '2', '1', '1', '2', '2', '2', '1', '2', '1', '1', '2', '2'], \n",
       "      dtype='<U1')"
      ]
     },
     "execution_count": 63,
     "metadata": {},
     "output_type": "execute_result"
    }
   ],
   "source": [
    "sexes_array = np.array(list(sexes.values()))\n",
    "sexes_array"
   ]
  },
  {
   "cell_type": "markdown",
   "metadata": {},
   "source": [
    "**Question** Calculate the fraction of students in the first school that is male."
   ]
  },
  {
   "cell_type": "code",
   "execution_count": 19,
   "metadata": {
    "collapsed": false
   },
   "outputs": [
    {
     "data": {
      "text/plain": [
       "0.59999999999999998"
      ]
     },
     "execution_count": 19,
     "metadata": {},
     "output_type": "execute_result"
    }
   ],
   "source": [
    "..."
   ]
  },
  {
   "cell_type": "markdown",
   "metadata": {},
   "source": [
    "**Question** Now write a loop that calculates the fraction of students that is male in each of the Add Health schools. Store your results in an array called `add_health_frac_male`."
   ]
  },
  {
   "cell_type": "code",
   "execution_count": null,
   "metadata": {
    "collapsed": false
   },
   "outputs": [],
   "source": [
    "add_health_frac_male = make_array()\n",
    "\n",
    "for net in add_health_networks:\n",
    "    sexes = nx.get_node_attributes(..., ...).values()\n",
    "    sexes = np.array(...)\n",
    "    net_male_frac = np.mean(...)\n",
    "    add_health_frac_male = np.append(add_health_frac_male, net_male_frac)\n",
    "    \n",
    "add_health_frac_male"
   ]
  },
  {
   "cell_type": "markdown",
   "metadata": {},
   "source": [
    "**Question** Make a histogram that shows the distribution of the fraction male across the schools in the sample."
   ]
  },
  {
   "cell_type": "code",
   "execution_count": null,
   "metadata": {
    "collapsed": false
   },
   "outputs": [],
   "source": [
    "..."
   ]
  },
  {
   "cell_type": "markdown",
   "metadata": {},
   "source": [
    "**Question** Following the pattern you used to calculate the fraction male in each community, write another loop that calculates the assortativity coefficient for sex in each community. Store your results in an array called `add_health_r`."
   ]
  },
  {
   "cell_type": "code",
   "execution_count": null,
   "metadata": {
    "collapsed": false
   },
   "outputs": [],
   "source": [
    "add_health_r = make_array()\n",
    "\n",
    "for net in ...:\n",
    "    net_r = nx.attribute_assortativity_coefficient(..., ...)\n",
    "    add_health_r = np.append(..., ...)\n",
    "    \n",
    "add_health_r"
   ]
  },
  {
   "cell_type": "markdown",
   "metadata": {},
   "source": [
    "**Question** Plot a histogram of the assortativity coefficients across the Add Health networks."
   ]
  },
  {
   "cell_type": "code",
   "execution_count": null,
   "metadata": {
    "collapsed": true
   },
   "outputs": [],
   "source": [
    "..."
   ]
  },
  {
   "cell_type": "markdown",
   "metadata": {},
   "source": [
    "### Generating random networks with random sexes"
   ]
  },
  {
   "cell_type": "markdown",
   "metadata": {},
   "source": [
    "Now we're in a similar situation to last week: it is  difficult to interpret the absolute numbers that we obtained in the histogram above because it is not clear how much assortativity is a lot.  \n",
    "\n",
    "So instead of just looking at the assortativity values for a network, we can ask the question: how does the assortativity value we observe compare to what we would expect from an *otherwise similar random network*.  In other words, we will set up a *null model* and to compare what we see in the real world to what we would see if the null model were true.\n",
    "\n",
    "For our null model, we'll use the ER random network with one twist: in addition to randomly drawing edges between the nodes, we're also going to assign each node to a random sex. Therefore, our network will have three parameters: the number of nodes, the average degree, and the fraction of nodes that is male.\n",
    "\n",
    "We'll start by bringing in some of the code we used to generate random networks in the last lab:"
   ]
  },
  {
   "cell_type": "code",
   "execution_count": 69,
   "metadata": {
    "collapsed": true
   },
   "outputs": [],
   "source": [
    "def er_by_degree(n, avg_degree):\n",
    "    return(nx.erdos_renyi_graph(n=n, p=avg_degree / (n-1)))\n",
    "\n",
    "def rand_er_network(network):\n",
    "    \"\"\"\n",
    "    Return a random network generated from the configuration model using\n",
    "    the degree sequence of the network passed in\n",
    "    \"\"\"\n",
    "    network_n = network.number_of_nodes()\n",
    "    network_dbar = network.number_of_edges() / network_n\n",
    "    return(er_by_degree(network_n, network_dbar))"
   ]
  },
  {
   "cell_type": "markdown",
   "metadata": {},
   "source": [
    "The two functions above enable us to start from a real world network and to generate a random ER network that has the same average degree and the same number of nodes.\n",
    "\n",
    "The next function takes a network and randomly assigns a given fraction of the nodes to be male, with the remainder set to be female:"
   ]
  },
  {
   "cell_type": "code",
   "execution_count": 38,
   "metadata": {
    "collapsed": true
   },
   "outputs": [],
   "source": [
    "def add_random_sex(network, frac_male):\n",
    "    \"\"\"\n",
    "    Given a network, randomly give each node a gender,\n",
    "    with frac_male ending up male (we'll call this sex so that it\n",
    "    is the same as the Add Health networks)\n",
    "    \"\"\"\n",
    "    all_nodes = network.nodes()\n",
    "    num_male = int(np.floor(len(all_nodes) * frac_male))\n",
    "        \n",
    "    genders = (['male'] * num_male) + (['female'] * (len(all_nodes) - num_male))\n",
    "    genders_dict = dict(zip(all_nodes, genders))\n",
    "    \n",
    "    nx.set_node_attributes(network, 'sex', genders_dict)"
   ]
  },
  {
   "cell_type": "markdown",
   "metadata": {},
   "source": [
    "**Question** It will be convenient to have a single function that generates a random network with nodes assigned to a specific sex, all based on an existing network. You can do this by combining the three functions above. Fill in the function definition below to accomplish this."
   ]
  },
  {
   "cell_type": "code",
   "execution_count": null,
   "metadata": {
    "collapsed": true
   },
   "outputs": [],
   "source": [
    "def rand_er_network_with_sex(network):\n",
    "    \n",
    "    # compute fraction male\n",
    "    sexes = nx.get_node_attributes(network, 'sex').values()\n",
    "    sexes = np.array(list(sexes))\n",
    "    net_male_frac = ...\n",
    "    \n",
    "    # generate matching ER random network\n",
    "    g = ...\n",
    "    \n",
    "    # set the right fraction of nodes to be male\n",
    "    ...\n",
    "    \n",
    "    # return the result\n",
    "    return(g)"
   ]
  },
  {
   "cell_type": "markdown",
   "metadata": {},
   "source": [
    "**Question** Write a loop to generate 100 random networks with random sex. Have the random networks match the first Add Health network in terms of number of nodes, average degree, and fraction male. For each random network, calculate the assortativity coefficient and store it in an array called `er_network_r`."
   ]
  },
  {
   "cell_type": "code",
   "execution_count": null,
   "metadata": {
    "collapsed": true
   },
   "outputs": [],
   "source": [
    "first_add_health = add_health_networks[0]\n",
    "\n",
    "er_network_r = make_array()\n",
    "\n",
    "for _ in range(100):\n",
    "    rand_net = ...\n",
    "    er_network_r = np.append(er_network_r, ...)\n"
   ]
  },
  {
   "cell_type": "markdown",
   "metadata": {},
   "source": [
    "**Question** Make a histogram of the `er_network_r` values. What value is the assortativity coefficient centered on?"
   ]
  },
  {
   "cell_type": "code",
   "execution_count": null,
   "metadata": {
    "collapsed": false
   },
   "outputs": [],
   "source": [
    "..."
   ]
  },
  {
   "cell_type": "markdown",
   "metadata": {},
   "source": [
    "One way to quantify the 'central' assortativity value from all 100 simulated random networks is to take the mean of the simulated values. This is an estimate for the expected value of the assortativity under our null model.\n",
    "\n",
    "**Question** Calculate the mean value of the simulated assortativity and call it `er_expected_assortativity`."
   ]
  },
  {
   "cell_type": "code",
   "execution_count": null,
   "metadata": {
    "collapsed": true
   },
   "outputs": [],
   "source": [
    "..."
   ]
  },
  {
   "cell_type": "markdown",
   "metadata": {},
   "source": [
    "**Question** Now calculate the assortativity coefficient for the Add Health network that you based the random networks on. Call this `observed_r`."
   ]
  },
  {
   "cell_type": "code",
   "execution_count": null,
   "metadata": {
    "collapsed": false
   },
   "outputs": [],
   "source": [
    "observed_r = ...\n",
    "observed_r"
   ]
  },
  {
   "cell_type": "markdown",
   "metadata": {},
   "source": [
    "**Question** Now plot the histogram of the assortativity coefficients from the null model simulations (like you did above). This time, add a red dot on the x axis that shows where `observed_r`, the observed value from the Add Health network, would fall on this distribution.   \n",
    "*[HINT: parts of [Chapter 10 of the Data 8 textbook](https://www.inferentialthinking.com/chapters/10/2/terminology-of-testing.html) have examples of these plots]*"
   ]
  },
  {
   "cell_type": "code",
   "execution_count": null,
   "metadata": {
    "collapsed": true
   },
   "outputs": [],
   "source": [
    "...\n",
    "..."
   ]
  },
  {
   "cell_type": "markdown",
   "metadata": {},
   "source": [
    "### Testing a hypothesis"
   ]
  },
  {
   "cell_type": "markdown",
   "metadata": {},
   "source": [
    "Finally, we will use these random networks as the null model for a hypothesis test. \n",
    "\n",
    "Specifically, we will test the hypothesis that the observed assortativity coefficient was produced by the null model. We will do so by looking at the fraction of randomly generated assortativity coefficients that were 'more extreme' than the observed assortativity coefficient. We will measure how 'extreme' a specific assortativity coefficient is by looking at how far it is from the expected value under the null model (`er_expected_assortativity`, which you calculated above).\n",
    "\n",
    "So we will call \n",
    "\n",
    "* $a_{\\text{obs}}$ the observed assortativity coefficient in the Add Health network\n",
    "* $a_i$ the $i$th randomly simulated assortativity coefficient from the null model (so $i$ goes from 1 to 100)\n",
    "* $\\mu_a$ the expected value of the assortativity coefficient under the null model (you calculated this as `er_expected_assortativity` above)\n",
    "\n",
    "\n",
    "In the language of hypothesis testing, the *test statistic* here is the absolute value of the difference between an observed assortativity coefficient and the expected assortativity coefficient under the null model: $|a - \\mu_a|$.\n",
    "Remember that the absolute value of a difference tells us how far apart two quantities are.\n",
    "So $|a_i - \\mu_a|$ describes how far $a_i$ is from $\\mu_a$. Similarly,\n",
    "$|a_{\\text{obs}} - \\mu_a|$ describes how far $a_{\\text{obs}}$ is from $\\mu_a$.\n",
    "\n",
    "In order to test the hypothesis that the observed assortativity coefficient was produced by our null model, we want to compute\n",
    "\n",
    "$$\n",
    "\\begin{aligned}\n",
    "\\text{p value} &=\\frac{\\text{# times randomly simulated assortativity is more extreme than observed assortativity}}{\\text{# simulations}}\\\\ \n",
    "&= \\frac{\\text{# times } |a_i - \\mu_a| > |a_{\\text{obs}} - \\mu_a|}{100}\n",
    "\\end{aligned}\n",
    "$$"
   ]
  },
  {
   "cell_type": "markdown",
   "metadata": {},
   "source": [
    "**Question** In words, describe the null hypothesis we are using.  \n",
    "*[HINT: see the [Data 8 textbook](https://www.inferentialthinking.com/chapters/10/3/error-probabilities.html) for examples if you are unsure here]*"
   ]
  },
  {
   "cell_type": "markdown",
   "metadata": {},
   "source": [
    "<div class='response'>\n",
    "[answer here]\n",
    "</div>"
   ]
  },
  {
   "cell_type": "markdown",
   "metadata": {},
   "source": [
    "**Question** Now, in words, describe what the alternative model says about the world.  \n",
    "*[HINT: see the [Data 8 textbook](https://www.inferentialthinking.com/chapters/10/3/error-probabilities.html) for examples if you are unsure here]*"
   ]
  },
  {
   "cell_type": "markdown",
   "metadata": {},
   "source": [
    "<div class='response'>\n",
    "[answer here]\n",
    "</div>"
   ]
  },
  {
   "cell_type": "markdown",
   "metadata": {},
   "source": [
    "**Question** Now calculate an empirical $p$ value based on your null and alternative hypotheses.  \n",
    "*[HINT: you can calculate an absolute value using the `np.abs` function]*"
   ]
  },
  {
   "cell_type": "code",
   "execution_count": null,
   "metadata": {
    "collapsed": false
   },
   "outputs": [],
   "source": [
    "emp_p_value = np.mean(...)\n",
    "emp_p_value"
   ]
  },
  {
   "cell_type": "markdown",
   "metadata": {},
   "source": [
    "**Question** What do you conclude about homophily by sex in this network?"
   ]
  },
  {
   "cell_type": "markdown",
   "metadata": {},
   "source": [
    "<div class='response'>\n",
    "[Answer here]\n",
    "</div>"
   ]
  },
  {
   "cell_type": "markdown",
   "metadata": {},
   "source": [
    "## Submit the lab\n",
    "\n",
    "You're almost done! Now please create a pdf version of your completed lab by **either**:\n",
    "\n",
    "* printing your notebook to a pdf file\n",
    "* going to the Jupyter 'File' menu, choosing 'Download as' and then 'PDF via LaTeX (.pdf)'. \n",
    "\n",
    "Please save the resulting .pdf on your computer and then **submit the .pdf on bcourses**.\n",
    "\n",
    "**The lab must be submitted by the end of the day on Monday, Oct. 23. Late labs will not be accepted.**"
   ]
  },
  {
   "cell_type": "code",
   "execution_count": null,
   "metadata": {
    "collapsed": true
   },
   "outputs": [],
   "source": []
  }
 ],
 "metadata": {
  "anaconda-cloud": {},
  "kernelspec": {
   "display_name": "Python [default]",
   "language": "python",
   "name": "python3"
  },
  "language_info": {
   "codemirror_mode": {
    "name": "ipython",
    "version": 3
   },
   "file_extension": ".py",
   "mimetype": "text/x-python",
   "name": "python",
   "nbconvert_exporter": "python",
   "pygments_lexer": "ipython3",
   "version": "3.5.2"
  }
 },
 "nbformat": 4,
 "nbformat_minor": 1
}
