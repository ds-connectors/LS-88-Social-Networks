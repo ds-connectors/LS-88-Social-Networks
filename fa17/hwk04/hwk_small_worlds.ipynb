{
 "cells": [
  {
   "cell_type": "code",
   "execution_count": 1,
   "metadata": {
    "collapsed": false
   },
   "outputs": [
    {
     "data": {
      "text/html": [
       "<style>\n",
       ".imagesource {\n",
       "    font-size: xx-small;\n",
       "}\n",
       ".response {\n",
       "    background-color: #00CCCC;\n",
       "}\n",
       ".solution {\n",
       "    background-color: #CC77CC;\n",
       "}\n",
       "</style>\n"
      ],
      "text/plain": [
       "<IPython.core.display.HTML object>"
      ]
     },
     "execution_count": 1,
     "metadata": {},
     "output_type": "execute_result"
    }
   ],
   "source": [
    "from IPython.core.display import HTML\n",
    "from datascience import *\n",
    "\n",
    "import matplotlib\n",
    "matplotlib.use('Agg')\n",
    "%matplotlib inline\n",
    "import matplotlib.pyplot as plt\n",
    "import numpy as np\n",
    "import os\n",
    "plt.style.use('fivethirtyeight')\n",
    "\n",
    "import networkx as nx\n",
    "from networkx.algorithms import bipartite\n",
    "\n",
    "def css_styling():\n",
    "    styles = open('../notebook_styles.css', 'r').read()\n",
    "    return HTML(styles)\n",
    "css_styling()"
   ]
  },
  {
   "cell_type": "code",
   "execution_count": null,
   "metadata": {
    "collapsed": false
   },
   "outputs": [],
   "source": [
    "# These lines load the tests.\n",
    "from client.api.notebook import Notebook \n",
    "hwk_sw = Notebook('hwk_small_worlds.ok')\n",
    "_ = hwk_sw.auth(inline=True)"
   ]
  },
  {
   "cell_type": "markdown",
   "metadata": {},
   "source": [
    "### L&S 88-4: Social networks\n",
    "\n",
    "# Homework 04: Small worlds"
   ]
  },
  {
   "cell_type": "markdown",
   "metadata": {},
   "source": [
    "In this homework assignment, we're going to explore the concept of *small worlds*.  Small worlds have long been studied by social networks researchers, and they have also been discussed in popular culture. The rough idea is that social networks can typically be expected to have two characteristics:\n",
    "\n",
    "* a high level of clustering\n",
    "* a short average path length\n",
    "\n",
    "A high level of clustering is consistent with the idea of triadic closure. And a short average path length is supposed to capture situations we often seem to encounter in our day to day lives: e.g., two strangers find that they have an unexpected acquaintance in common and exclaim \"it's a small world!\" (see the Milgram article below).\n",
    "\n",
    "We're going to try to assess how well these two small world predictions hold up empirically. We're going to focus on the Add Health networks. We should bear in mind that the small world theory is really about very large networks, so we will be evaluating it in an unusual situation: networks of moderate size taken from children who all live in the same community.\n",
    "\n",
    "OPTIONAL BACKGROUND READING\n",
    "\n",
    "If you want to learn more about small-world networks, check out this article describing an early empirical study by Milgram:\n",
    "\n",
    "* [Milgram 1967](http://measure.igpp.ucla.edu/GK12-SEE-LA/Lesson_Files_09/Tina_Wey/TW_social_networks_Milgram_1967_small_world_problem.pdf)\n",
    "* [Wikipedia article: Small-world experiment](https://en.wikipedia.org/wiki/Small-world_experiment)\n",
    "\n",
    "More recently, researchers have studied mathematical models that can produce networks with small-world properties. Here are a couple of examples:\n",
    "\n",
    "* [Wikipedia article: Small-world network](https://en.wikipedia.org/wiki/Small-world_network)\n",
    "* [Watts & Strogatz 1998](http://www.nature.com/nature/journal/v393/n6684/abs/393440a0.html)\n",
    "* [Watts 1999](http://www.jstor.org/stable/10.1086/210318?seq=1#page_scan_tab_contents)"
   ]
  },
  {
   "cell_type": "markdown",
   "metadata": {},
   "source": [
    "### Read in the data "
   ]
  },
  {
   "cell_type": "markdown",
   "metadata": {},
   "source": [
    "We'll use the code that we used in the labs to read the Add Health networks in."
   ]
  },
  {
   "cell_type": "code",
   "execution_count": null,
   "metadata": {
    "collapsed": false
   },
   "outputs": [],
   "source": [
    "def read_add_health_network(network_id):\n",
    "    \"\"\"\n",
    "    network_id : integer from 1 to 84\n",
    "    \n",
    "    read in the Add Health network corresponding to the given id number and\n",
    "    return it as an undirected networkx object\n",
    "    \"\"\"\n",
    "\n",
    "    # this file was downloaded from\n",
    "    # http://moreno.ss.uci.edu/data.html#adhealth\n",
    "    edge_file = os.path.join(\"..\", \"data\", \"add-health\", \"comm\" + str(network_id) + \".dat\")\n",
    "    with open(edge_file, 'r') as f:\n",
    "        edge_lines = f.readlines()\n",
    "        \n",
    "    network = nx.parse_edgelist(edge_lines, nodetype=int, data=[('activity_level', float)])\n",
    "    \n",
    "    # note that we call the to_undirected method to ensure we get an undirected network\n",
    "    return(network.to_undirected())\n",
    "\n",
    "number_add_health_networks = 84\n",
    "add_health_networks = [read_add_health_network(x) for x in range(1,number_add_health_networks+1)]"
   ]
  },
  {
   "cell_type": "markdown",
   "metadata": {},
   "source": [
    "**Question** Fill in the `average_degree` function below. It should take as its argument a `networkx` `Graph` object and it should return the average degree of that network. (This function will be useful  function below.)"
   ]
  },
  {
   "cell_type": "code",
   "execution_count": null,
   "metadata": {
    "collapsed": true
   },
   "outputs": [],
   "source": [
    "def average_degree(net):\n",
    "    \"\"\"Given a network object, return the average degree\"\"\"\n",
    "    return(...)"
   ]
  },
  {
   "cell_type": "code",
   "execution_count": null,
   "metadata": {
    "collapsed": false
   },
   "outputs": [],
   "source": [
    "_ = hwk_sw.grade('q_helper_degree')"
   ]
  },
  {
   "cell_type": "markdown",
   "metadata": {},
   "source": [
    "### Empirical distribution in the Add Health networks"
   ]
  },
  {
   "cell_type": "markdown",
   "metadata": {},
   "source": [
    "First, we'll look at the empirical distribution of clustering and average path length in the Add Health networks. We'll try to get a sense for how these metrics work by looking at whether or not they seem to be related to the size (number of nodes) in a network."
   ]
  },
  {
   "cell_type": "markdown",
   "metadata": {},
   "source": [
    "**Question** Write a loop that goes through each of the 84 Add Health networks and calculates the clustering coefficient and the number of nodes in the network. (Please use the average clustering coefficient, implemented by the `average_clustering` function from the networkx package.) Store the results in a Table called `add_health_clustering` using columns called `num_nodes` and `avg_clustering_coef`."
   ]
  },
  {
   "cell_type": "code",
   "execution_count": null,
   "metadata": {
    "collapsed": false
   },
   "outputs": [],
   "source": [
    "clustering = make_array()\n",
    "num_nodes = make_array()\n",
    "\n",
    "for g in ...:\n",
    "    clustering = np.append(clustering, ...)\n",
    "    num_nodes = np.append(num_nodes, ...)\n",
    "    \n",
    "add_health_clustering = Table().with_columns(['num_nodes', num_nodes,\n",
    "                                              'avg_clustering_coef', clustering])\n",
    "add_health_clustering"
   ]
  },
  {
   "cell_type": "code",
   "execution_count": null,
   "metadata": {
    "collapsed": false
   },
   "outputs": [],
   "source": [
    "_ = hwk_sw.grade('q1')"
   ]
  },
  {
   "cell_type": "markdown",
   "metadata": {},
   "source": [
    "**Question** Make a histogram showing the distribution of clustering coefficients across the 84 Add Health networks."
   ]
  },
  {
   "cell_type": "code",
   "execution_count": null,
   "metadata": {
    "collapsed": true
   },
   "outputs": [],
   "source": [
    "..."
   ]
  },
  {
   "cell_type": "markdown",
   "metadata": {},
   "source": [
    "**Question** Make a scatter plot that compares the number of nodes in each network (x axis) to the clustering coefficient (y axis). Does it look like the clustering coefficient changes as the number of nodes does?"
   ]
  },
  {
   "cell_type": "code",
   "execution_count": null,
   "metadata": {
    "collapsed": true
   },
   "outputs": [],
   "source": [
    "..."
   ]
  },
  {
   "cell_type": "markdown",
   "metadata": {},
   "source": [
    "<div class='response'>\n",
    "[Answer here]\n",
    "</div>"
   ]
  },
  {
   "cell_type": "markdown",
   "metadata": {},
   "source": [
    "### Average path length of biggest component"
   ]
  },
  {
   "cell_type": "markdown",
   "metadata": {},
   "source": [
    "Remember that it really only makes sense to think about the average path length between two nodes that are in the same component. (Nodes in different components have no path between them.) Since some of the Add Health networks have more than one component, we'll start by picking out only the largest component in each network."
   ]
  },
  {
   "cell_type": "code",
   "execution_count": null,
   "metadata": {
    "collapsed": true
   },
   "outputs": [],
   "source": [
    "def get_biggest_component(network):\n",
    "    biggest = max(nx.connected_component_subgraphs(network), key=len)\n",
    "    return(biggest)\n",
    "\n",
    "add_health_biggest_components = [get_biggest_component(g) for g in add_health_networks]"
   ]
  },
  {
   "cell_type": "markdown",
   "metadata": {},
   "source": [
    "**Question** Write a loop that goes through the largest component of each of the 84 Add Health networks and calculates the average shortest path length and the number of nodes in the network. Store the results in a Table called `add_health_sp` using columns called `num_nodes` and `avg_shortest_path`."
   ]
  },
  {
   "cell_type": "code",
   "execution_count": null,
   "metadata": {
    "collapsed": false
   },
   "outputs": [],
   "source": [
    "## NOTE: your code might take a little while\n",
    "##       (~ 3-5 minutes) to run\n",
    "\n",
    "avg_shortest_path = make_array()\n",
    "num_nodes = make_array()\n",
    "\n",
    "avg_degree = make_array()\n",
    "\n",
    "for c in ...:\n",
    "    avg_shortest_path = np.append(avg_shortest_path, ...)\n",
    "    num_nodes = np.append(num_nodes, ...)\n",
    "    avg_degree = np.append(avg_degree, ...)\n",
    "\n",
    "add_health_sp = Table().with_columns(['num_nodes', num_nodes,\n",
    "                                      'avg_shortest_path', avg_shortest_path,\n",
    "                                      'avg_degree', avg_degree])\n",
    "\n",
    "add_health_sp"
   ]
  },
  {
   "cell_type": "code",
   "execution_count": null,
   "metadata": {
    "collapsed": false
   },
   "outputs": [],
   "source": [
    "_ = hwk_sw.grade('q2_b')"
   ]
  },
  {
   "cell_type": "markdown",
   "metadata": {},
   "source": [
    "**Question** Plot a histogram showing the distribution of average shortest path lengths across the 84 Add Health networks' largest components."
   ]
  },
  {
   "cell_type": "code",
   "execution_count": null,
   "metadata": {
    "collapsed": true
   },
   "outputs": [],
   "source": [
    "..."
   ]
  },
  {
   "cell_type": "markdown",
   "metadata": {},
   "source": [
    "**Question** Make a scatter plot that compares the number of nodes in each largest component (x axis) to the average shortest path (y axis). Does it look like the average shortest path changes as the number of nodes does?"
   ]
  },
  {
   "cell_type": "code",
   "execution_count": null,
   "metadata": {
    "collapsed": false
   },
   "outputs": [],
   "source": [
    "..."
   ]
  },
  {
   "cell_type": "markdown",
   "metadata": {},
   "source": [
    "<div class='response'>\n",
    "[Answer here]\n",
    "</div>"
   ]
  },
  {
   "cell_type": "markdown",
   "metadata": {},
   "source": [
    "### Do real networks agree with the small-world hypothesis?"
   ]
  },
  {
   "cell_type": "markdown",
   "metadata": {},
   "source": [
    "The small world theory says that a social network should have a large clustering coefficient and a small average path length. But what do large and small mean? In other words, what should we think about comparing these networks to?\n",
    "\n",
    "Now we'll use Erdos-Renyi random networks as a *null model*. For our purposes, ER models have a couple of important properties. They have:\n",
    "\n",
    "* short average path lengths\n",
    "* very small clustering\n",
    "\n",
    "So putting this together with the small world properties, we would expect that a small world network would have\n",
    "\n",
    "* average path lengths that are about the same as an ER random network\n",
    "* clustering that is much larger than an ER random network\n",
    "\n",
    "We could try to study this question mathematically (as some of the networks researchers have). That is, we could come up with a mathematical model for a small world network and compare that model to the ER model. We're going to take a different approach in this homework: instead of using math, we're going to study the properties of the ER model using simulation. Specifically, we're going to\n",
    "\n",
    "* pick one specific Add Health network to test\n",
    "* generate ER networks that 'match' that specific Add Health network\n",
    "* compare the clustering coefficient / average path lengths of the ER networks to the ones we observe in the Add Health network; if these agree, then we conclude that the model provides a good description of the observed data. If not, then we conclude that the data are not well-described by the model.\n"
   ]
  },
  {
   "cell_type": "markdown",
   "metadata": {},
   "source": [
    "Let's pick out one particular Add Health network to focus on for this part."
   ]
  },
  {
   "cell_type": "code",
   "execution_count": null,
   "metadata": {
    "collapsed": false
   },
   "outputs": [],
   "source": [
    "# the specific Add Health network we'll look at\n",
    "ahn = add_health_networks[17]"
   ]
  },
  {
   "cell_type": "markdown",
   "metadata": {},
   "source": [
    "... and let's also use a couple of functions that we created in Lab 06."
   ]
  },
  {
   "cell_type": "code",
   "execution_count": null,
   "metadata": {
    "collapsed": true
   },
   "outputs": [],
   "source": [
    "def er_by_degree(n, avg_degree):\n",
    "    \n",
    "    return(nx.erdos_renyi_graph(n=n, p=avg_degree / (n-1)))\n",
    "\n",
    "def rand_er_network(network):\n",
    "    \"\"\"\n",
    "    Return a random network generated from the configuration model using\n",
    "    the degree sequence of the network passed in\n",
    "    \"\"\"\n",
    "    network_n = network.number_of_nodes()\n",
    "    network_dbar = average_degree(network)\n",
    "    return(er_by_degree(network_n, network_dbar))"
   ]
  },
  {
   "cell_type": "markdown",
   "metadata": {},
   "source": [
    "### Developing a simulation from a null model"
   ]
  },
  {
   "cell_type": "markdown",
   "metadata": {},
   "source": [
    "**Question** Describe what the function `er_by_degree` does.  \n",
    "*[HINT: You may find Lab 06 helpful to review.]*"
   ]
  },
  {
   "cell_type": "markdown",
   "metadata": {},
   "source": [
    "<div class='response'>\n",
    "[Answer here]\n",
    "</div>"
   ]
  },
  {
   "cell_type": "markdown",
   "metadata": {},
   "source": [
    "**Question** Write a function which, given a network, returns its average shortest path length. If the network has more than one component, your function should return the average path length in the biggest component."
   ]
  },
  {
   "cell_type": "code",
   "execution_count": null,
   "metadata": {
    "collapsed": true
   },
   "outputs": [],
   "source": [
    "def avg_path_length(net):\n",
    "    if nx.number_connected_components(net) > 1:\n",
    "        net = ...\n",
    "    \n",
    "    return(...)"
   ]
  },
  {
   "cell_type": "code",
   "execution_count": null,
   "metadata": {
    "collapsed": false
   },
   "outputs": [],
   "source": [
    "_ = hwk_sw.grade('q3_0')"
   ]
  },
  {
   "cell_type": "markdown",
   "metadata": {},
   "source": [
    "**Question** Write a simulation that generates 500 Erdos Renyi random networks that match the Add Health network `ahn`. (By 'match', we mean that the ER network should have the same average degree and number of nodes as the Add Health network `ahn`.). For each generated ER network, calculate the average clustering and use the function you wrote above to calculate the average path length. Store the results in a table called `er_res`.  \n",
    "*NOTE: this may take a few minutes (say 3) to run*"
   ]
  },
  {
   "cell_type": "code",
   "execution_count": null,
   "metadata": {
    "collapsed": false
   },
   "outputs": [],
   "source": [
    "observed_apl = avg_path_length(ahn)\n",
    "observed_cc = nx.average_clustering(ahn)\n",
    "\n",
    "er_cc = make_array()\n",
    "er_apl = make_array()\n",
    "\n",
    "# the underscore (_) means that we don't\n",
    "# care which iteration is which -- we just want\n",
    "# to repeat this 500 times\n",
    "for _ in range(500):\n",
    "    \n",
    "    er_net = ...\n",
    "    er_cc = np.append(er_cc, ...)\n",
    "    er_apl = np.append(er_apl, ...)\n",
    "    \n",
    "er_res = Table().with_columns('cc', er_cc,\n",
    "                              'apl', er_apl)\n",
    "\n",
    "er_res"
   ]
  },
  {
   "cell_type": "code",
   "execution_count": null,
   "metadata": {
    "collapsed": false
   },
   "outputs": [],
   "source": [
    "_ = hwk_sw.grade('q3_a')"
   ]
  },
  {
   "cell_type": "markdown",
   "metadata": {},
   "source": [
    "**Question** Now print out the observed average path length in the Add Health network `ahn` and plot a histogram of the average path lengths in the ER networks you just simulated."
   ]
  },
  {
   "cell_type": "code",
   "execution_count": null,
   "metadata": {
    "collapsed": true
   },
   "outputs": [],
   "source": [
    "...\n",
    "..."
   ]
  },
  {
   "cell_type": "markdown",
   "metadata": {},
   "source": [
    "**Question** Where would the observed Add Health network's average path length fall in the Erdos Renyi networks' distribution?"
   ]
  },
  {
   "cell_type": "markdown",
   "metadata": {},
   "source": [
    "<div class='response'>\n",
    "[Answer here]\n",
    "</div>"
   ]
  },
  {
   "cell_type": "markdown",
   "metadata": {},
   "source": [
    "**Question** Now print out the observed clustering coefficient in the Add Health network `ahn` and plot a histogram of the clustering coefficients in the ER networks you just simulated."
   ]
  },
  {
   "cell_type": "code",
   "execution_count": null,
   "metadata": {
    "collapsed": true
   },
   "outputs": [],
   "source": [
    "...\n",
    "..."
   ]
  },
  {
   "cell_type": "markdown",
   "metadata": {},
   "source": [
    "**Question** Where would the observed Add Health network's clustering coefficient fall in the Erdos Renyi networks' distribution?"
   ]
  },
  {
   "cell_type": "markdown",
   "metadata": {},
   "source": [
    "<div class='response'>\n",
    "[Answer here]\n",
    "</div>"
   ]
  },
  {
   "cell_type": "markdown",
   "metadata": {},
   "source": [
    "**Question** You just looked at the relationship between (1) the predicted average path length in an Erdos-Renyi random network and the observed relationship in the Add Health network; and (2) the predicted average clustering coefficient in an Erdos-Renyi random network and the observed relationship in the Add Health network. Putting these two findings together, what do your results suggest about the small world hypothesis? Do you think the small world hypothesis seem to hold in this Add Health network?"
   ]
  },
  {
   "cell_type": "markdown",
   "metadata": {},
   "source": [
    "<div class='response'>\n",
    "[Answer here]\n",
    "</div>"
   ]
  },
  {
   "cell_type": "markdown",
   "metadata": {},
   "source": [
    "## Tests"
   ]
  },
  {
   "cell_type": "code",
   "execution_count": null,
   "metadata": {
    "collapsed": false
   },
   "outputs": [],
   "source": [
    "# this cell runs all the tests at once!\n",
    "print(\"Running all tests...\")\n",
    "_ = [hwk_sw.grade(q[:-3]) for q in os.listdir(\"tests\") if q.startswith('q')]\n",
    "print(\"Finished running all tests.\")"
   ]
  },
  {
   "cell_type": "markdown",
   "metadata": {},
   "source": [
    "# Please hand this homework in using two different methods\n",
    "\n",
    "Both submissions must be completed by **midnight on Tuesday, October 24th.**<BR>\n",
    "**Late homework will not be accepted**, so please be sure to hand in as much as you have finished by the deadline. Good luck!\n",
    "\n",
    "**FIRST, please run the following cell to submit using `okpy`**"
   ]
  },
  {
   "cell_type": "code",
   "execution_count": null,
   "metadata": {
    "collapsed": true
   },
   "outputs": [],
   "source": [
    "_ = hwk_sw.submit()"
   ]
  },
  {
   "cell_type": "markdown",
   "metadata": {},
   "source": [
    "**SECOND** Please hand this homework in as a `.pdf` file on Bcourses. "
   ]
  },
  {
   "cell_type": "code",
   "execution_count": null,
   "metadata": {
    "collapsed": true
   },
   "outputs": [],
   "source": []
  }
 ],
 "metadata": {
  "anaconda-cloud": {},
  "kernelspec": {
   "display_name": "Python [default]",
   "language": "python",
   "name": "python3"
  },
  "language_info": {
   "codemirror_mode": {
    "name": "ipython",
    "version": 3
   },
   "file_extension": ".py",
   "mimetype": "text/x-python",
   "name": "python",
   "nbconvert_exporter": "python",
   "pygments_lexer": "ipython3",
   "version": "3.5.2"
  }
 },
 "nbformat": 4,
 "nbformat_minor": 1
}
