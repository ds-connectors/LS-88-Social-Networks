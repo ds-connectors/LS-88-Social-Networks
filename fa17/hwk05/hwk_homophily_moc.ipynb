{
 "cells": [
  {
   "cell_type": "code",
   "execution_count": 1,
   "metadata": {
    "collapsed": false
   },
   "outputs": [
    {
     "data": {
      "text/html": [
       "<style>\n",
       ".imagesource {\n",
       "    font-size: xx-small;\n",
       "}\n",
       ".response {\n",
       "    background-color: #00CCCC;\n",
       "}\n",
       ".solution {\n",
       "    background-color: #CC77CC;\n",
       "}\n",
       "</style>\n"
      ],
      "text/plain": [
       "<IPython.core.display.HTML object>"
      ]
     },
     "execution_count": 1,
     "metadata": {},
     "output_type": "execute_result"
    }
   ],
   "source": [
    "from IPython.core.display import HTML\n",
    "from datascience import *\n",
    "\n",
    "import matplotlib\n",
    "matplotlib.use('Agg')\n",
    "%matplotlib inline\n",
    "import matplotlib.pyplot as plt\n",
    "import numpy as np\n",
    "import os\n",
    "import pickle\n",
    "import pandas as pd\n",
    "\n",
    "plt.style.use('fivethirtyeight')\n",
    "\n",
    "import networkx as nx\n",
    "\n",
    "def css_styling():\n",
    "    styles = open('../notebook_styles.css', 'r').read()\n",
    "    return HTML(styles)\n",
    "css_styling()"
   ]
  },
  {
   "cell_type": "code",
   "execution_count": null,
   "metadata": {
    "collapsed": false
   },
   "outputs": [],
   "source": [
    "# These lines load the tests.\n",
    "from client.api.notebook import Notebook \n",
    "hwk_homophily = Notebook('hwk_homophily_moc.ok')\n",
    "_ = hwk_homophily.auth(inline=True)"
   ]
  },
  {
   "cell_type": "markdown",
   "metadata": {},
   "source": [
    "### L&S 88-4: Social networks\n",
    "\n",
    "# Homework 05"
   ]
  },
  {
   "cell_type": "markdown",
   "metadata": {},
   "source": [
    "## Patterns of connection between US Legislators"
   ]
  },
  {
   "cell_type": "markdown",
   "metadata": {},
   "source": [
    "In this homework, we'll be investigating patterns of connections on Twitter among Members of Congress (MOC). This dataset comes from the official Twitter accounts of members of Congress in the fall of 2016. We've made a few simplifications here:\n",
    "\n",
    "* on Twitter, following is a *directed relation*. So person A can follow person B without person B necessarily following person A. Here, we've taken these directed relationships and turned them into an undirected network.\n",
    "* Almost every Senator and Representative is in this dataset, but a few are missing; we'll ignore these missing people here\n",
    "\n",
    "Let's start by loading the dataset:"
   ]
  },
  {
   "cell_type": "code",
   "execution_count": null,
   "metadata": {
    "collapsed": false
   },
   "outputs": [],
   "source": [
    "official_congress_twitter = pickle.load(open('../data/congress-twitter/us_congress_2016_twitter.pickle', 'rb'))"
   ]
  },
  {
   "cell_type": "markdown",
   "metadata": {},
   "source": [
    "## Exploratory analysis of the dataset"
   ]
  },
  {
   "cell_type": "markdown",
   "metadata": {},
   "source": [
    "Like the network that we studied in Lab 07, the nodes in the `official_congress_twitter` network have attributes. These attributes include:\n",
    "\n",
    "* `official_full` - the MOC's full name\n",
    "* `gender` - the MOC's gender\n",
    "* `party` - the MOC's political party\n",
    "* `state` - the MOC's state\n",
    "* `type` - either `sen` for Senator or `rep` for Representative"
   ]
  },
  {
   "cell_type": "markdown",
   "metadata": {},
   "source": [
    "**Question** Fill in the missing parts of this helper function, which extracts node ids and attributes from a given network."
   ]
  },
  {
   "cell_type": "code",
   "execution_count": null,
   "metadata": {
    "collapsed": false
   },
   "outputs": [],
   "source": [
    "def attribute_to_table(g, att):\n",
    "    \"\"\"\n",
    "    Given a network `g` and the name of an attribute `att`,\n",
    "    return a table that has a column with node ID and a column with the\n",
    "    node's attribute value\n",
    "    \"\"\"\n",
    "    node_ids = ...\n",
    "    \n",
    "    att_vals = list(...)\n",
    "    \n",
    "    result = Table().with_columns('node_id', node_ids,\n",
    "                                  att, att_vals)\n",
    "    \n",
    "    return(result)\n",
    "\n",
    "## example usage\n",
    "attribute_to_table(official_congress_twitter, 'gender')"
   ]
  },
  {
   "cell_type": "code",
   "execution_count": null,
   "metadata": {
    "collapsed": false
   },
   "outputs": [],
   "source": [
    "_ = hwk_homophily.grade('q_attribute_to_table')"
   ]
  },
  {
   "cell_type": "markdown",
   "metadata": {},
   "source": [
    "**Question** According to this dataset, what fraction of congress is women?"
   ]
  },
  {
   "cell_type": "code",
   "execution_count": null,
   "metadata": {
    "collapsed": true
   },
   "outputs": [],
   "source": [
    "...\n",
    "\n",
    "frac_women = ...\n",
    "\n",
    "print(\"female proportion of members of Congress: \", frac_women)"
   ]
  },
  {
   "cell_type": "code",
   "execution_count": null,
   "metadata": {
    "collapsed": false
   },
   "outputs": [],
   "source": [
    "_ = hwk_homophily.grade('q_frac_women')"
   ]
  },
  {
   "cell_type": "markdown",
   "metadata": {},
   "source": [
    "**Question** According to this dataset, what fraction of congress is Republican?"
   ]
  },
  {
   "cell_type": "code",
   "execution_count": null,
   "metadata": {
    "collapsed": true
   },
   "outputs": [],
   "source": [
    "...\n",
    "\n",
    "frac_republican = ...\n",
    "\n",
    "print(\"Republican proportion of members of Congress: \", frac_republican)"
   ]
  },
  {
   "cell_type": "code",
   "execution_count": null,
   "metadata": {
    "collapsed": false
   },
   "outputs": [],
   "source": [
    "_ = hwk_homophily.grade('q_frac_republican')"
   ]
  },
  {
   "cell_type": "markdown",
   "metadata": {},
   "source": [
    "**Question** What is the average degree of the network?"
   ]
  },
  {
   "cell_type": "code",
   "execution_count": null,
   "metadata": {
    "collapsed": false
   },
   "outputs": [],
   "source": [
    "moc_avg_degree = ...\n",
    "\n",
    "print('The average degree is: ', moc_avg_degree)"
   ]
  },
  {
   "cell_type": "code",
   "execution_count": null,
   "metadata": {
    "collapsed": false
   },
   "outputs": [],
   "source": [
    "_ = hwk_homophily.grade('q_avg_degree')"
   ]
  },
  {
   "cell_type": "markdown",
   "metadata": {},
   "source": [
    "## Investigating homophily by gender and by party"
   ]
  },
  {
   "cell_type": "markdown",
   "metadata": {},
   "source": [
    "Now we'll turn to  a substantive question about patterns of connection in this network: does the network seem to have more homophily by party or by gender?"
   ]
  },
  {
   "cell_type": "markdown",
   "metadata": {},
   "source": [
    "**Question** What would it mean if the patterns of connection in this network were homophilous by party?"
   ]
  },
  {
   "cell_type": "markdown",
   "metadata": {},
   "source": [
    "<div class='response'>\n",
    "[answer here]\n",
    "</div>"
   ]
  },
  {
   "cell_type": "markdown",
   "metadata": {},
   "source": [
    "**Question** Would you predict that connections by party will be (1) homophilous, (2) random, or (3) heterophilous (opposites attract)? Why?"
   ]
  },
  {
   "cell_type": "markdown",
   "metadata": {},
   "source": [
    "<div class='response'>\n",
    "[answer here]\n",
    "</div>"
   ]
  },
  {
   "cell_type": "markdown",
   "metadata": {},
   "source": [
    "**Question** Would you predict that connections by gender will be (1) homophilous, (2) random, or (3) heterophilous (opposites attract)? Why?"
   ]
  },
  {
   "cell_type": "markdown",
   "metadata": {},
   "source": [
    "<div class='response'>\n",
    "[answer here]\n",
    "</div>"
   ]
  },
  {
   "cell_type": "markdown",
   "metadata": {},
   "source": [
    "**Question** We talked about the assortativity coefficient as one way of quantifying the amount of homophily in a network. What is implied about homophily when the assortativity coefficient is (1) negative, (2) zero, and (3) positive?"
   ]
  },
  {
   "cell_type": "markdown",
   "metadata": {},
   "source": [
    "<div class='response'>\n",
    "1. [answer here]   \n",
    "2. [answer here]   \n",
    "3. [answer here]\n",
    "</div>"
   ]
  },
  {
   "cell_type": "markdown",
   "metadata": {},
   "source": [
    "## Connections by gender and by party"
   ]
  },
  {
   "cell_type": "markdown",
   "metadata": {},
   "source": [
    "Now we'll make a couple of plots that show the MOC Twitter network with nodes colored by gender (first plot) and by party (second plot).  \n",
    "\n",
    "You don't have to write any code here, but you have to answer some questions."
   ]
  },
  {
   "cell_type": "markdown",
   "metadata": {},
   "source": [
    "#### Plot of network by gender"
   ]
  },
  {
   "cell_type": "markdown",
   "metadata": {},
   "source": [
    "This first plot will draw the MOC Twitter network with nodes colored according to their gender: red for females and blue for males."
   ]
  },
  {
   "cell_type": "code",
   "execution_count": null,
   "metadata": {
    "collapsed": false
   },
   "outputs": [],
   "source": [
    "pos = nx.spring_layout(official_congress_twitter)\n",
    "\n",
    "node_color_scheme = {'M' : 'blue', 'F' : 'red'}\n",
    "node_colors = [node_color_scheme.get(official_congress_twitter.node[node]['gender'], 'white') \n",
    "               for node in official_congress_twitter.nodes()]\n",
    "\n",
    "plt.figure(figsize=(6,6))\n",
    "nx.draw_networkx_nodes(official_congress_twitter, \n",
    "                       pos,\n",
    "                       node_color=node_colors, \n",
    "                       scale=10, node_size=10)\n",
    "\n",
    "nx.draw_networkx_edges(official_congress_twitter, \n",
    "                       pos,\n",
    "                       alpha=.01)\n",
    "plt.title('Members of Congress by gender', loc='left')"
   ]
  },
  {
   "cell_type": "markdown",
   "metadata": {},
   "source": [
    "**Question** How useful is this plot for understanding homophily by gender in this network?"
   ]
  },
  {
   "cell_type": "markdown",
   "metadata": {},
   "source": [
    "<div class='response'>\n",
    "[answer here]\n",
    "</div>"
   ]
  },
  {
   "cell_type": "markdown",
   "metadata": {},
   "source": [
    "#### Plot of network by party"
   ]
  },
  {
   "cell_type": "markdown",
   "metadata": {},
   "source": [
    "This next plot will draw the MOC Twitter network with nodes colored according to party: blue for Democrats, red for Republicans, and white for Independents."
   ]
  },
  {
   "cell_type": "code",
   "execution_count": null,
   "metadata": {
    "collapsed": false
   },
   "outputs": [],
   "source": [
    "pos = nx.spring_layout(official_congress_twitter)\n",
    "\n",
    "node_color_scheme = {'Democrat' : 'blue', 'Republican' : 'red', 'Independent' : 'grey'}\n",
    "node_colors = [node_color_scheme.get(official_congress_twitter.node[node]['party'], 'white') \n",
    "               for node in official_congress_twitter.nodes()]\n",
    "\n",
    "plt.figure(figsize=(6,6))\n",
    "nx.draw_networkx_nodes(official_congress_twitter, \n",
    "                       pos,\n",
    "                       node_color=node_colors, \n",
    "                       scale=10, node_size=10)\n",
    "\n",
    "nx.draw_networkx_edges(official_congress_twitter, \n",
    "                       pos,\n",
    "                       alpha=.01)\n",
    "plt.title('Members of Congress by party', loc='left')"
   ]
  },
  {
   "cell_type": "markdown",
   "metadata": {},
   "source": [
    "**Question** How useful is this plot for understanding homophily by party in this network?"
   ]
  },
  {
   "cell_type": "markdown",
   "metadata": {},
   "source": [
    "<div class='response'>\n",
    "[answer here]\n",
    "</div>"
   ]
  },
  {
   "cell_type": "markdown",
   "metadata": {},
   "source": [
    "### Quantifying homophily using the assortativity coefficient"
   ]
  },
  {
   "cell_type": "markdown",
   "metadata": {},
   "source": [
    "Now we will move beyond visualization and start to quantify the patterns of connections in the MOC Twitter datset."
   ]
  },
  {
   "cell_type": "markdown",
   "metadata": {},
   "source": [
    "**Question** Calculate the assortativity coefficient for gender in this network"
   ]
  },
  {
   "cell_type": "code",
   "execution_count": null,
   "metadata": {
    "collapsed": false
   },
   "outputs": [],
   "source": [
    "observed_r_gender = ...\n",
    "\n",
    "print(\"Observed assortativity coefficient for gender: \", observed_r_gender)"
   ]
  },
  {
   "cell_type": "code",
   "execution_count": null,
   "metadata": {
    "collapsed": false
   },
   "outputs": [],
   "source": [
    "_ = hwk_homophily.grade('q_obsvd_r_gender')"
   ]
  },
  {
   "cell_type": "markdown",
   "metadata": {},
   "source": [
    "**Question** Calculate the assortativity coefficient for party in this network"
   ]
  },
  {
   "cell_type": "code",
   "execution_count": null,
   "metadata": {
    "collapsed": false
   },
   "outputs": [],
   "source": [
    "observed_r_party = ...\n",
    "\n",
    "print(\"Observed assortativity coefficient for party: \", observed_r_party)"
   ]
  },
  {
   "cell_type": "code",
   "execution_count": null,
   "metadata": {
    "collapsed": false
   },
   "outputs": [],
   "source": [
    "_ = hwk_homophily.grade('q_obsvd_r_party')"
   ]
  },
  {
   "cell_type": "markdown",
   "metadata": {},
   "source": [
    "**Question** How would you interpret these results? In other words, what do these two results suggest about homophily in the MOC Twitter network?"
   ]
  },
  {
   "cell_type": "markdown",
   "metadata": {},
   "source": [
    "<div class='response'>\n",
    "[answer here]\n",
    "</div>"
   ]
  },
  {
   "cell_type": "markdown",
   "metadata": {},
   "source": [
    "## Testing a hypothesis"
   ]
  },
  {
   "cell_type": "markdown",
   "metadata": {},
   "source": [
    "Calculating the assortativity coefficient is a useful first step in our investigation of homophily in the MOC Twitter network. However, as we discussed in Lab 07, it is difficult to interpret the assortativity coefficient alone. After all, if the connections in the MOC Twitter network were formed completely at random, with no homophily at all, then we could see values of the assortativity coefficient that were different from 0 just by chance.\n",
    "\n",
    "Thus, to get more persuasive evidence for or against the theory that there is homophily in who follows who among members of Congress, we will adopt the approach we used in Lab 07: we will develop a null model that describes a world with no homophily, and then we will see whether or not the observed assortativity coefficient seems to be typical of the assortativity coefficients produced by the null model. We'll summarize our results with a p value.\n"
   ]
  },
  {
   "cell_type": "markdown",
   "metadata": {},
   "source": [
    "We'll start by looking a few functions which are provided to you.\n",
    "\n",
    "These first two functions should be familiar from Lab 07."
   ]
  },
  {
   "cell_type": "code",
   "execution_count": null,
   "metadata": {
    "collapsed": true
   },
   "outputs": [],
   "source": [
    "def er_by_degree(n, avg_degree):\n",
    "    return(nx.erdos_renyi_graph(n=n, p=avg_degree / (n-1)))\n",
    "\n",
    "def rand_er_network(network):\n",
    "\n",
    "    network_n = network.number_of_nodes()\n",
    "    network_dbar = network.number_of_edges() / network_n\n",
    "    return(er_by_degree(network_n, network_dbar))"
   ]
  },
  {
   "cell_type": "markdown",
   "metadata": {},
   "source": [
    "The next function is similar to a function we saw in Lab 07. However, this function is more general: given an observed network, it generates a 'matching' ER random network. The ER network will match the observed one because\n",
    "\n",
    "* it has the same number of nodes\n",
    "* in expectation, it has the same average degree\n",
    "* it has the same distribution of attributes as the observed network\n"
   ]
  },
  {
   "cell_type": "code",
   "execution_count": null,
   "metadata": {
    "collapsed": true
   },
   "outputs": [],
   "source": [
    "def matching_rand_er_network_with_attributes(network):\n",
    "    \"\"\"\n",
    "    Return an ER random network that matches the network passed in as an arugment (`network`)\n",
    "    in terms of \n",
    "    (i) the number of nodes; \n",
    "    (ii) the expected average degree; and\n",
    "    (iii) the distribution of node attributes\n",
    "    \"\"\"\n",
    "       \n",
    "    # get the values of the attributes in the observed network\n",
    "    attribute_values = [x[1] for x in network.nodes(data=True)]\n",
    "    \n",
    "    # generate matching ER random network\n",
    "    g = rand_er_network(network)\n",
    "    \n",
    "    # give the nodes in the random network the same attributes as\n",
    "    # in the observed network\n",
    "    for node, idx in enumerate(g.nodes()):\n",
    "        g.node[node].update(attribute_values[idx])\n",
    "    \n",
    "    # return the result\n",
    "    return(g)"
   ]
  },
  {
   "cell_type": "markdown",
   "metadata": {},
   "source": [
    "**Question** Use this function to generate one random network that matches the `official_congress_twitter` network."
   ]
  },
  {
   "cell_type": "code",
   "execution_count": null,
   "metadata": {
    "collapsed": false
   },
   "outputs": [],
   "source": [
    "example_er = ..."
   ]
  },
  {
   "cell_type": "markdown",
   "metadata": {},
   "source": [
    "Let's just double-check that the ER network has the same distribution of attributes as the original network:"
   ]
  },
  {
   "cell_type": "code",
   "execution_count": null,
   "metadata": {
    "collapsed": false
   },
   "outputs": [],
   "source": [
    "attribute_to_table(official_congress_twitter, 'gender').group('gender')"
   ]
  },
  {
   "cell_type": "code",
   "execution_count": null,
   "metadata": {
    "collapsed": false
   },
   "outputs": [],
   "source": [
    "attribute_to_table(example_er, 'gender').group('gender')"
   ]
  },
  {
   "cell_type": "code",
   "execution_count": null,
   "metadata": {
    "collapsed": false
   },
   "outputs": [],
   "source": [
    "_ = hwk_homophily.grade('q_matching_er_random_net')"
   ]
  },
  {
   "cell_type": "markdown",
   "metadata": {},
   "source": [
    "Looks good!"
   ]
  },
  {
   "cell_type": "markdown",
   "metadata": {},
   "source": [
    "**Question** Fill in the missing parts of the code below to simulate 250 random ER networks that match the observed MOC Twitter network. For each randomly generated ER network, calculate the assortativity coefficient for gender and for party.   \n",
    "*[NOTE: it may take ~2 minutes to run this part]*"
   ]
  },
  {
   "cell_type": "code",
   "execution_count": null,
   "metadata": {
    "collapsed": true
   },
   "outputs": [],
   "source": [
    "er_r_gender = make_array()\n",
    "er_r_party = make_array()\n",
    "\n",
    "for _ in range(250):\n",
    "    \n",
    "    er_net = ...\n",
    "    \n",
    "    er_r_gender = np.append(cm_r_gender, ...)\n",
    "    er_r_party = np.append(cm_r_party, ...)\n",
    "    \n",
    "er_r = Table().with_columns('er_r_gender', er_r_gender,\n",
    "                            'er_r_party', er_r_party)\n",
    "\n",
    "er_r"
   ]
  },
  {
   "cell_type": "code",
   "execution_count": null,
   "metadata": {
    "collapsed": false
   },
   "outputs": [],
   "source": [
    "_ = hwk_homophily.grade('q_250_er_nets')"
   ]
  },
  {
   "cell_type": "markdown",
   "metadata": {},
   "source": [
    "**Question** Make a histogram that shows the distribution of the assortativity coefficients for gender in the ER networks. Plot the observed gender assortativity coefficient from the MOC Twitter network on the x axis with a red dot (as we did in Lab 07)."
   ]
  },
  {
   "cell_type": "code",
   "execution_count": null,
   "metadata": {
    "collapsed": true
   },
   "outputs": [],
   "source": [
    "...\n",
    "\n",
    "plt.scatter(..., ..., ..., ...)\n",
    "\n",
    "# NOTE: you'll need to run this code below to\n",
    "# make sure the axis labels are correct \n",
    "# (there seems to be a bug in the defaults, making this necessary)\n",
    "ax = plt.gca()          # get current axes\n",
    "ax.set_xscale('linear') # relabel with linear scale"
   ]
  },
  {
   "cell_type": "markdown",
   "metadata": {},
   "source": [
    "**Question** In order to estimate the expected value of the assortativity coefficient for gender under the null model, calculate the mean of the gender assortativity coefficients across the ER networks."
   ]
  },
  {
   "cell_type": "code",
   "execution_count": null,
   "metadata": {
    "collapsed": false
   },
   "outputs": [],
   "source": [
    "er_gender_expected_assortativity = ...\n",
    "\n",
    "er_gender_expected_assortativity"
   ]
  },
  {
   "cell_type": "code",
   "execution_count": null,
   "metadata": {
    "collapsed": false
   },
   "outputs": [],
   "source": [
    "_ = hwk_homophily.grade('q_expected_r_gender')"
   ]
  },
  {
   "cell_type": "markdown",
   "metadata": {},
   "source": [
    "**Question** Summarize the finding above by calculating a P value. Your null hypothesis should be that the observed gender assortativity coefficient comes from the null model; the alternative is that it does not."
   ]
  },
  {
   "cell_type": "code",
   "execution_count": null,
   "metadata": {
    "collapsed": true
   },
   "outputs": [],
   "source": [
    "emp_p_value_gender = np.mean(np.abs(... - ...) >= \n",
    "                             np.abs(... - ...))\n",
    "emp_p_value_gender"
   ]
  },
  {
   "cell_type": "code",
   "execution_count": null,
   "metadata": {
    "collapsed": false
   },
   "outputs": [],
   "source": [
    "_ = hwk_homophily.grade('q_emp_p_gender')"
   ]
  },
  {
   "cell_type": "markdown",
   "metadata": {},
   "source": [
    "**Question** Make a histogram that shows the distribution of the assortativity coefficients for party in the ER networks. Plot the observed party assortativity coefficient from the MOC Twitter network on the x axis with a red dot (as we did in Lab 07)."
   ]
  },
  {
   "cell_type": "code",
   "execution_count": null,
   "metadata": {
    "collapsed": true
   },
   "outputs": [],
   "source": [
    "...\n",
    "\n",
    "plt.scatter(..., ..., ..., ...)\n",
    "\n",
    "# NOTE: you'll need to run this code below to\n",
    "# make sure the axis labels are correct \n",
    "# (there seems to be a bug in the defaults, making this necessary)\n",
    "ax = plt.gca()          # get current axes\n",
    "ax.set_xscale('linear') # relabel with linear scale"
   ]
  },
  {
   "cell_type": "code",
   "execution_count": null,
   "metadata": {
    "collapsed": false
   },
   "outputs": [],
   "source": [
    "## SOLUTION\n",
    "\n",
    "er_r.hist('er_r_party')\n",
    "\n",
    "plt.scatter(observed_r_party, 0, color='red', s=30);\n",
    "\n",
    "# NOTE: you'll need to run this code below to\n",
    "# make sure the axis labels are correct \n",
    "# (there seems to be a bug in the defaults, making this necessary)\n",
    "ax = plt.gca()          # get current axes\n",
    "ax.set_xscale('linear') # relabel with linear scale"
   ]
  },
  {
   "cell_type": "markdown",
   "metadata": {},
   "source": [
    "**Question** In order to estimate the expected value of the assortativity coefficient for gender under the null model, calculate the mean of the gender assortativity coefficients across the ER networks."
   ]
  },
  {
   "cell_type": "code",
   "execution_count": null,
   "metadata": {
    "collapsed": false
   },
   "outputs": [],
   "source": [
    "er_party_expected_assortativity = ...\n",
    "\n",
    "er_party_expected_assortativity"
   ]
  },
  {
   "cell_type": "code",
   "execution_count": null,
   "metadata": {
    "collapsed": false
   },
   "outputs": [],
   "source": [
    "_ = hwk_homophily.grade('q_expected_r_party')"
   ]
  },
  {
   "cell_type": "markdown",
   "metadata": {},
   "source": [
    "**Question** Summarize the finding above by calculating a P value. Your null hypothesis should be that the observed party assortativity coefficient comes from the null model; the alternative is that it does not."
   ]
  },
  {
   "cell_type": "code",
   "execution_count": null,
   "metadata": {
    "collapsed": true
   },
   "outputs": [],
   "source": [
    "emp_p_value_party = np.mean(np.abs(... - ...) >= \n",
    "                             np.abs(... - ...))\n",
    "emp_p_value_party"
   ]
  },
  {
   "cell_type": "code",
   "execution_count": null,
   "metadata": {
    "collapsed": false
   },
   "outputs": [],
   "source": [
    "_ = hwk_homophily.grade('q_emp_p_party')"
   ]
  },
  {
   "cell_type": "markdown",
   "metadata": {},
   "source": [
    "## Tests"
   ]
  },
  {
   "cell_type": "code",
   "execution_count": null,
   "metadata": {
    "collapsed": false
   },
   "outputs": [],
   "source": [
    "# this cell runs all the tests at once!\n",
    "print(\"Running all tests...\")\n",
    "_ = [hwk_homophily.grade(q[:-3]) for q in os.listdir(\"tests\") if q.startswith('q')]\n",
    "print(\"Finished running all tests.\")"
   ]
  },
  {
   "cell_type": "markdown",
   "metadata": {},
   "source": [
    "# Please hand this homework in using two different methods\n",
    "\n",
    "Both submissions must be completed by **midnight on Wednesday, November 8th.**<BR>\n",
    "**Late homework will not be accepted**, so please be sure to hand in as much as you have finished by the deadline. Good luck!\n",
    "\n",
    "**FIRST, please run the following cell to submit using `okpy`**"
   ]
  },
  {
   "cell_type": "code",
   "execution_count": null,
   "metadata": {
    "collapsed": true
   },
   "outputs": [],
   "source": [
    "_ = hwk_homophily.submit()"
   ]
  },
  {
   "cell_type": "markdown",
   "metadata": {},
   "source": [
    "**SECOND** Please hand this homework in as a `.pdf` file on Bcourses. "
   ]
  },
  {
   "cell_type": "code",
   "execution_count": null,
   "metadata": {
    "collapsed": true
   },
   "outputs": [],
   "source": []
  }
 ],
 "metadata": {
  "anaconda-cloud": {},
  "kernelspec": {
   "display_name": "Python [default]",
   "language": "python",
   "name": "python3"
  },
  "language_info": {
   "codemirror_mode": {
    "name": "ipython",
    "version": 3
   },
   "file_extension": ".py",
   "mimetype": "text/x-python",
   "name": "python",
   "nbconvert_exporter": "python",
   "pygments_lexer": "ipython3",
   "version": "3.5.2"
  }
 },
 "nbformat": 4,
 "nbformat_minor": 1
}
