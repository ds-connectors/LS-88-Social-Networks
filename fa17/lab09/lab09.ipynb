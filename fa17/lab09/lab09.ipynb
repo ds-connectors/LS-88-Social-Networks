{
 "cells": [
  {
   "cell_type": "code",
   "execution_count": null,
   "metadata": {
    "collapsed": false
   },
   "outputs": [],
   "source": [
    "from IPython.core.display import HTML\n",
    "from datascience import *\n",
    "\n",
    "import matplotlib\n",
    "from matplotlib import animation as animation\n",
    "matplotlib.use('Agg')\n",
    "%matplotlib inline\n",
    "import matplotlib.pyplot as plt\n",
    "import numpy as np\n",
    "import os\n",
    "plt.style.use('fivethirtyeight')\n",
    "\n",
    "import networkx as nx\n",
    "from networkx.algorithms import bipartite\n",
    "\n",
    "from __future__ import print_function\n",
    "from ipywidgets import interact, interactive, fixed, interact_manual, widgets\n",
    "\n",
    "def css_styling():\n",
    "    styles = open('../notebook_styles.css', 'r').read()\n",
    "    return HTML(styles)\n",
    "css_styling()"
   ]
  },
  {
   "cell_type": "markdown",
   "metadata": {},
   "source": [
    "## Lab 09 - Affiliation and bipartite graphs"
   ]
  },
  {
   "cell_type": "markdown",
   "metadata": {},
   "source": [
    "Today, we're going to study *affiliation networks*. Affiliation networks can be used to describe the relationships between two different types of nodes. Some common examples:\n",
    "\n",
    "* people who attend events\n",
    "* people who belong to groups\n",
    "\n",
    "Affiliation networks can be represented by *bipartite graphs*. Bipartite graphs are like other mathematical graphs, but they have an additional property: the nodes in the graph can be divided into two sets, say A and B, such that every edge in the graph connects a node from A to a node from B. \n",
    "\n",
    "In addition to affiliation networks, some other types of networks that can be represented as bipartite graphs are:\n",
    "\n",
    "* people who work together on a project (such as a scientific paper or a movie)\n",
    "* people who buy a product\n",
    "* people who read an article\n",
    "\n",
    "These networks are different from what we have seen before because there are really two types of nodes: one type of node is a person, but another type of node is an event / group / product / etc.  Researchers call these *two-mode* networks.  Networks that can be represented with bipartite graphs are often two-mode."
   ]
  },
  {
   "cell_type": "markdown",
   "metadata": {},
   "source": [
    "### Example: birthday parties"
   ]
  },
  {
   "cell_type": "markdown",
   "metadata": {},
   "source": [
    "Here is an example of an affiliation network (from pg 299 of *Social Network Analysis* by Wasserman and Faust):"
   ]
  },
  {
   "cell_type": "markdown",
   "metadata": {},
   "source": [
    "<img src=\"affiliation_example_wassermanfaust.png\">"
   ]
  },
  {
   "cell_type": "markdown",
   "metadata": {},
   "source": [
    "[talk about how to convert this into a network]"
   ]
  },
  {
   "cell_type": "markdown",
   "metadata": {},
   "source": [
    "We can represent this network as a bipartite graph like this (ibid, pg 301):"
   ]
  },
  {
   "cell_type": "markdown",
   "metadata": {},
   "source": [
    "<img src=\"affiliation_example2_wassermanfaust.png\">"
   ]
  },
  {
   "cell_type": "markdown",
   "metadata": {},
   "source": [
    "## Explore bipartite networks with `networkx`"
   ]
  },
  {
   "cell_type": "markdown",
   "metadata": {},
   "source": [
    "Let's enter this graph into networkx using an edge list:"
   ]
  },
  {
   "cell_type": "code",
   "execution_count": null,
   "metadata": {
    "collapsed": true
   },
   "outputs": [],
   "source": [
    "bday_net = nx.Graph([('A', '1'), ('A', '3'), ('D', '2'), ('E', '2'), ('E', '3'), ('K', '3'), ('R', '1'), ('R', '2'), ('R', '3'), ('S', '1'), ('S', '2')])"
   ]
  },
  {
   "cell_type": "markdown",
   "metadata": {},
   "source": [
    "We have to do a bit of extra work to tell `networkx` that this graph is bipartite. We'll pass the names of the nodes in one of the bipartite sets like so:"
   ]
  },
  {
   "cell_type": "code",
   "execution_count": null,
   "metadata": {
    "collapsed": true
   },
   "outputs": [],
   "source": [
    "bday_child_nodes = ['A', 'D', 'E', 'K', 'R', 'S']\n",
    "bday_party_nodes = ['1', '2', '3']\n",
    "\n",
    "# bipartite=0 tells networkx that these nodes are one of the independent sets of the bipartite network;\n",
    "bday_net.add_nodes_from(bday_child_nodes, bipartite=0)\n",
    "# the other independent set will have bipartite=1\n",
    "bday_net.add_nodes_from(bday_party_nodes, bipartite=1)"
   ]
  },
  {
   "cell_type": "markdown",
   "metadata": {},
   "source": [
    "We can double-check that we've created a bipartite network with `nx.is_bipartite`:"
   ]
  },
  {
   "cell_type": "code",
   "execution_count": null,
   "metadata": {
    "collapsed": false
   },
   "outputs": [],
   "source": [
    "nx.is_bipartite(bday_net)"
   ]
  },
  {
   "cell_type": "markdown",
   "metadata": {},
   "source": [
    "And we can have `networkx` draw it -- but we'll have to jump through a couple of hoops to force networkx to put one independent set of nodes on the left and the other independent set of nodes on the right:"
   ]
  },
  {
   "cell_type": "code",
   "execution_count": null,
   "metadata": {
    "collapsed": false
   },
   "outputs": [],
   "source": [
    "# we're going to make a dictionary that maps node id to\n",
    "# the coordinates that should be used to draw each node\n",
    "bday_pos = dict()\n",
    "\n",
    "# each child node should be plotted at x coordinate = 1\n",
    "for idx, node_id in enumerate(bday_child_nodes):\n",
    "    bday_pos[node_id] = (1, idx)\n",
    "\n",
    "# each party node should be plotted at x coordinate = 2\n",
    "for idx, node_id in enumerate(bday_party_nodes):\n",
    "    bday_pos[node_id] = (2, idx)\n",
    "\n",
    "# create a blank plot\n",
    "plt.figure(figsize=(10,10))\n",
    "# draw the nodes from our bipartite network, using the `pos` argument\n",
    "# to tell the `nx.draw` function to use our dictionary to determine\n",
    "# where to draw each node\n",
    "nx.draw(bday_net, pos=bday_pos, with_labels=True)"
   ]
  },
  {
   "cell_type": "markdown",
   "metadata": {},
   "source": [
    "In order to get information about the degrees of each half of the network, we can give the `nx.degree` function a list of node ids. The result is a dictionary, so if we just want a list of the degrees themselves, we use `.values()`. All in all, this is a pattern for getting the degrees in each independent set:"
   ]
  },
  {
   "cell_type": "code",
   "execution_count": null,
   "metadata": {
    "collapsed": false
   },
   "outputs": [],
   "source": [
    "child_degrees = nx.degree(bday_net, bday_child_nodes).values()\n",
    "child_degrees"
   ]
  },
  {
   "cell_type": "code",
   "execution_count": null,
   "metadata": {
    "collapsed": false
   },
   "outputs": [],
   "source": [
    "party_degrees = nx.degree(bday_net, bday_party_nodes).values()\n",
    "party_degrees"
   ]
  },
  {
   "cell_type": "markdown",
   "metadata": {},
   "source": [
    "Many functions in the `networkx` package will let you pass in a list of node ids like `nx.degree` does."
   ]
  },
  {
   "cell_type": "markdown",
   "metadata": {},
   "source": [
    "### Example: average clustering"
   ]
  },
  {
   "cell_type": "markdown",
   "metadata": {},
   "source": [
    "To illustrate how affiliation networks are somewhat different from the other networks we have seen so far, we'll use the concept of network *average clustering*. We discussed this in a previous lab; conceptually, the clustering coefficient of an individual node captures the extent to which that nodes friends are friends with each other. The average clustering of a network is the average of the clustering coefficient over all of the individual nodes.\n",
    "\n",
    "In a one-mode network (like all of the ones we have seen before today), the clustering coefficient can be calculated like this:\n",
    "\n",
    "$$C(v) = \\frac{\\text{# edges between node $v$'s friends}}{\\text{max # possible edges between node $v$'s friends}}$$\n",
    "\n",
    "This is problematic in the case of a bipartite network. Can you see why?"
   ]
  },
  {
   "cell_type": "markdown",
   "metadata": {},
   "source": [
    "**Question** Would this metric work in an affiliation network? Why or why not?"
   ]
  },
  {
   "cell_type": "markdown",
   "metadata": {},
   "source": [
    "<div class='response'>\n",
    "[answer here]\n",
    "</div>"
   ]
  },
  {
   "cell_type": "markdown",
   "metadata": {},
   "source": [
    " "
   ]
  },
  {
   "cell_type": "markdown",
   "metadata": {},
   "source": [
    "[Latapy et al](http://www.sciencedirect.com/science/article/pii/S0378873307000494) have proposed an alternative metric for clustering in a bipartite graph. First, they define a metric for overlap; for any pair of nodes $u$ and $v$ that are in the same independent set,\n",
    "\n",
    "$$overlap(u, v) = \\frac{\\text{# neighbors u and v share}}{\\text{max # neighbors u and v could share}}$$\n",
    "\n",
    "At most, this value is $1$ (when both nodes have exactly the same set of neighbors); at least, this value is $0$ (when the two nodes have no neighbors in common).\n",
    "\n",
    "The bipartite clustering coefficient for one node $u$ is then defined to be\n",
    "\n",
    "$$C_{b}(u) = \\frac{\\text{sum of overlap between $u$ and all other nodes that are 2 steps away from $u$}}{\\text{# nodes that are 2 steps away from u}}$$\n",
    "\n",
    "The average bipartite clustering coefficient is then the average of this quantity over all of the nodes in the network. This quantity will range from 0 (no clustering) to 1 (perfect clustering).\n",
    "\n",
    "We don't need to dwell on how this metric is constructed; for our purposes today, there are two important lessons:\n",
    "\n",
    "* network metrics like clustering can't necessarily be meaningfully used in two-mode networks\n",
    "* but it is often possible to come up with a metric that gets at the same idea"
   ]
  },
  {
   "cell_type": "markdown",
   "metadata": {},
   "source": [
    "**Discussion topic** Talk about projected networks and edge weights.\n"
   ]
  },
  {
   "cell_type": "markdown",
   "metadata": {},
   "source": [
    "## Randomize partners"
   ]
  },
  {
   "cell_type": "markdown",
   "metadata": {},
   "source": [
    "**Question** Write your name here"
   ]
  },
  {
   "cell_type": "markdown",
   "metadata": {},
   "source": [
    "<div class='response'>\n",
    "[answer here]\n",
    "</div>"
   ]
  },
  {
   "cell_type": "markdown",
   "metadata": {},
   "source": [
    "**Question** Write your partner's name here"
   ]
  },
  {
   "cell_type": "markdown",
   "metadata": {},
   "source": [
    "<div class='response'>\n",
    "[answer here]\n",
    "</div>"
   ]
  },
  {
   "cell_type": "markdown",
   "metadata": {},
   "source": [
    "**Question** Write your partner's favorite club or extracurricular activity here"
   ]
  },
  {
   "cell_type": "markdown",
   "metadata": {},
   "source": [
    "<div class='response'>\n",
    "[answer here]\n",
    "</div>"
   ]
  },
  {
   "cell_type": "markdown",
   "metadata": {},
   "source": [
    " "
   ]
  },
  {
   "cell_type": "markdown",
   "metadata": {},
   "source": [
    "### Bipartite projections"
   ]
  },
  {
   "cell_type": "markdown",
   "metadata": {},
   "source": [
    "Two-mode bipartite networks can be transformed into one-mode networks by *projecting* them. In the example above, we could create a network whose nodes are children, where two children are connected by an edge if they attended the same birthday party."
   ]
  },
  {
   "cell_type": "markdown",
   "metadata": {},
   "source": [
    "**Question** What are the edges in the one-mode projection of the birthday party affiliation network onto the child nodes? (You can write out the edge list.)"
   ]
  },
  {
   "cell_type": "markdown",
   "metadata": {},
   "source": [
    "<div class='response'>\n",
    "[answer here]\n",
    "</div>"
   ]
  },
  {
   "cell_type": "markdown",
   "metadata": {},
   "source": [
    "**Question** Use the `networkx` function `bipartite.projected_graph` to check your answer"
   ]
  },
  {
   "cell_type": "code",
   "execution_count": null,
   "metadata": {
    "collapsed": false
   },
   "outputs": [],
   "source": [
    "bday_child_net = bipartite.projected_graph(..., ...)\n",
    "bday_child_net.edges()"
   ]
  },
  {
   "cell_type": "markdown",
   "metadata": {},
   "source": [
    "**Question** Draw a picture of the projected network (be sure to include node labels)"
   ]
  },
  {
   "cell_type": "code",
   "execution_count": null,
   "metadata": {
    "collapsed": false
   },
   "outputs": [],
   "source": [
    "..."
   ]
  },
  {
   "cell_type": "markdown",
   "metadata": {},
   "source": [
    "Creating the projected network threw away a lot of information; for example, two children who both attended the exact same set of parties can't be distinguished from two children who just attended one same party. (Be sure you see why.)\n",
    "\n",
    "\n",
    "One way to keep more information about the structure in the bipartite network is to weight the edges in the projected network (ie, assign them numerical values). What should the weights be? Well, that depends; there are lots of options, and it generally makes sense to use what you know about the substantive problem you are working on to figure out what the best way to generate weights is. Here, we'll start with a very simple procedure: we will weight the edge by the number of events that the two nodes co-attended."
   ]
  },
  {
   "cell_type": "markdown",
   "metadata": {},
   "source": [
    "**Question** Revisit the projected network that you made above and add weights to each edge (ie, add weights to the projected network you made by hand)."
   ]
  },
  {
   "cell_type": "markdown",
   "metadata": {},
   "source": [
    "<div class='response'>\n",
    "[answer here]\n",
    "</div>"
   ]
  },
  {
   "cell_type": "markdown",
   "metadata": {},
   "source": [
    "**Question** The `networkx` function `bipartite.weighted_projected_graph` will calculate this weighted projected network for you. Use it to check your work."
   ]
  },
  {
   "cell_type": "code",
   "execution_count": null,
   "metadata": {
    "collapsed": true
   },
   "outputs": [],
   "source": [
    "bday_child_net2 = bipartite.weighted_projected_graph(..., ...)\n",
    "bday_child_net2.edges(...)"
   ]
  },
  {
   "cell_type": "markdown",
   "metadata": {},
   "source": [
    "Now that you have some experience with projected networks, we can look at a real affiliation dataset."
   ]
  },
  {
   "cell_type": "markdown",
   "metadata": {},
   "source": [
    "### The Southern Women dataset"
   ]
  },
  {
   "cell_type": "markdown",
   "metadata": {},
   "source": [
    "Below is an example of a famous affiliation matrix originally collected by Davis and colleagues (Davis, Gardner and Gardner, 1941, *Deep South: A Social Anthropological Study of Caste and Class*).  The rows of the matrix below correspond to eighteen women in a southern town, while the columns correspond to 14 different social events. An entry in the matrix is 1 if the corresponding woman attended the corresponding event, and 0 otherwise."
   ]
  },
  {
   "cell_type": "markdown",
   "metadata": {},
   "source": [
    "<img src=\"southern_women_matrix_breiger1974.png\">"
   ]
  },
  {
   "cell_type": "markdown",
   "metadata": {},
   "source": [
    "The Koblenz Network Collection has [digitized](http://konect.uni-koblenz.de/networks/opsahl-southernwomen) this network. We'll read it in now."
   ]
  },
  {
   "cell_type": "code",
   "execution_count": null,
   "metadata": {
    "collapsed": true
   },
   "outputs": [],
   "source": [
    "sw_dat = []\n",
    "with open(os.path.join(\"..\", \"data\", \"southern-women\", \"southernwomen.tsv\")) as f:\n",
    "    for line in f:\n",
    "        # lines beginning with '%' are comments\n",
    "        if line[0] == '%':\n",
    "            continue\n",
    "        sw_dat.append(line.strip())\n",
    "\n",
    "# by default, the nodes are just numbers; we'll make them more descriptive\n",
    "# to avoid confusion later on in our analysis\n",
    "sw_edges = [((\"woman_\" + (str.split(x)[0])), (\"event_\" + (str.split(x)[1]))) for x in sw_dat]\n",
    "\n",
    "all_women = list(set(x[0] for x in sw_edges))\n",
    "all_events = list(set(x[1] for x in sw_edges))"
   ]
  },
  {
   "cell_type": "markdown",
   "metadata": {},
   "source": [
    "Similar to the process we used with the birthday party attendance, above, we'll create a bipartite `networkx` graph using the edgelist and information about which node is in which independent set."
   ]
  },
  {
   "cell_type": "code",
   "execution_count": null,
   "metadata": {
    "collapsed": true
   },
   "outputs": [],
   "source": [
    "sw_net = nx.Graph()\n",
    "sw_net.add_nodes_from(all_women, bipartite=0)\n",
    "sw_net.add_nodes_from(all_events, bipartite=1)\n",
    "sw_net.add_edges_from(sw_edges)"
   ]
  },
  {
   "cell_type": "markdown",
   "metadata": {},
   "source": [
    "**Question** Draw the network using a non-bipartite method (like `nx.draw_spring`, for example). Is it easy to tell that this network is bipartite from the picture?"
   ]
  },
  {
   "cell_type": "code",
   "execution_count": null,
   "metadata": {
    "collapsed": true
   },
   "outputs": [],
   "source": [
    "..."
   ]
  },
  {
   "cell_type": "markdown",
   "metadata": {},
   "source": [
    "**Question** Now plot this network explicitly accounting for the bipartite structure: adapt the code above to be sure that all of the nodes representing women are on the left and all of the nodes representing events are on the right."
   ]
  },
  {
   "cell_type": "code",
   "execution_count": null,
   "metadata": {
    "collapsed": false
   },
   "outputs": [],
   "source": [
    "sw_pos = dict()\n",
    "\n",
    "for idx, node_id in enumerate(...):\n",
    "    sw_pos[node_id] = (..., ...)\n",
    "    \n",
    "for idx, node_id in enumerate(...):\n",
    "    sw_pos[node_id] = (..., ...)\n",
    "\n",
    "plt.figure(figsize=(10,10))\n",
    "nx.draw(sw_net, pos=sw_pos, with_labels=True)"
   ]
  },
  {
   "cell_type": "markdown",
   "metadata": {},
   "source": [
    "### Bipartite random networks"
   ]
  },
  {
   "cell_type": "markdown",
   "metadata": {},
   "source": [
    "Above, we saw that the metric for network density had to be modified to account for the constraint that edges can only go from one independent set to another. The same is true of the ER random network model: the ER model we have studied so far could generate an edge between any pair of nodes in the network. By constraining the model so that it can only generate edges between the two independent sets, we obtain a bipartite random network model."
   ]
  },
  {
   "cell_type": "markdown",
   "metadata": {},
   "source": [
    "The function below takes a network passed in as an argument, and generates a 'matching' bipartite random network; that is, it returns a randomly generated bipartite random network that has the same number of nodes in each independent set, and the same average degree for nodes in each independent set."
   ]
  },
  {
   "cell_type": "code",
   "execution_count": null,
   "metadata": {
    "collapsed": true
   },
   "outputs": [],
   "source": [
    "def matching_bipartite_random_net(net):\n",
    "    nodes0, nodes1 = bipartite.sets(net)\n",
    "    observed_p = bipartite.density(net, nodes0)\n",
    "    generated_net = bipartite.random_graph(len(nodes0), len(nodes1), observed_p)\n",
    "    \n",
    "    # we have to jump through some hoops to have nodes whose ids match the original network\n",
    "    # (but this can be convenient, so we'll do it)\n",
    "    n0 = len(nodes0)\n",
    "    n1 = len(nodes1)\n",
    "    generated_net = nx.relabel_nodes(generated_net, dict(zip(range(n0), nodes0)))\n",
    "    generated_net = nx.relabel_nodes(generated_net, dict(zip(range(n0, n0+1+n1), nodes1)))\n",
    "    \n",
    "    return(generated_net)"
   ]
  },
  {
   "cell_type": "markdown",
   "metadata": {},
   "source": [
    "Here's a helper function that will save you having to re-type the bipartite plotting code. Study it to see how it works; look at the help page for `bipartite.sets` to be sure you understand what it does."
   ]
  },
  {
   "cell_type": "code",
   "execution_count": null,
   "metadata": {
    "collapsed": true
   },
   "outputs": [],
   "source": [
    "def draw_bipartite_net(net):\n",
    "    \n",
    "    net_pos = dict()\n",
    "\n",
    "    nodes0, nodes1 = bipartite.sets(net)\n",
    "    \n",
    "    for idx, node_id in enumerate(nodes0):\n",
    "        net_pos[node_id] = (1, idx)\n",
    "\n",
    "    for idx, node_id in enumerate(nodes1):\n",
    "        net_pos[node_id] = (2, idx)\n",
    "\n",
    "    plt.figure(figsize=(10,10))\n",
    "    nx.draw(net, pos=net_pos, with_labels=True)"
   ]
  },
  {
   "cell_type": "markdown",
   "metadata": {},
   "source": [
    "**Question** Generate one bipartite random network that matches the Southern Women network in terms of the number of nodes and average degree in each independent set. Then use `draw_bipartite_net` to plot it."
   ]
  },
  {
   "cell_type": "code",
   "execution_count": null,
   "metadata": {
    "collapsed": false
   },
   "outputs": [],
   "source": [
    "test = ...\n",
    "draw_bipartite_net(...)"
   ]
  },
  {
   "cell_type": "markdown",
   "metadata": {},
   "source": [
    "Drawing bipartite networks is similar to drawing any other network: there is some high-level information to be gained from visualizing a particular drawing of the network, but it is hard to learn a huge amount of detail from plots like these."
   ]
  },
  {
   "cell_type": "markdown",
   "metadata": {},
   "source": [
    "**Question** Calculate the bipartite clustering of the random network you just generated."
   ]
  },
  {
   "cell_type": "code",
   "execution_count": null,
   "metadata": {
    "collapsed": false
   },
   "outputs": [],
   "source": [
    "..."
   ]
  },
  {
   "cell_type": "markdown",
   "metadata": {},
   "source": [
    "One of your colleagues suggests that the Southern Women network was generated by the bipartite random network model.  A second colleague says that is not likely, because she believes that the Southern Women socialize in a way that would result in higher clustering than would be expected using the bipartite random network model. To assess this claim empirically, you want to use the bipartite clustering as a test statistic. "
   ]
  },
  {
   "cell_type": "markdown",
   "metadata": {},
   "source": [
    "**Question** In words, describe what it would mean if the Southern Women's event attendance patterns were generated by a bipartite random network model. Do you think that this is a reasonable description of how these women behaved?"
   ]
  },
  {
   "cell_type": "markdown",
   "metadata": {},
   "source": [
    "<div class='response'>\n",
    "[Answer here]\n",
    "<div>"
   ]
  },
  {
   "cell_type": "markdown",
   "metadata": {},
   "source": [
    "**Question** Use the `bipartite.average_clustering` function to calculate the bipartite average clustering for the Southern Women network."
   ]
  },
  {
   "cell_type": "code",
   "execution_count": null,
   "metadata": {
    "collapsed": false
   },
   "outputs": [],
   "source": [
    "sw_bi_clustering = ...\n",
    "sw_bi_clustering"
   ]
  },
  {
   "cell_type": "markdown",
   "metadata": {},
   "source": [
    "**Question** Generate 1000 random bipartite networks that match the Southern Women network and store the bipartite density of each randomly generated network."
   ]
  },
  {
   "cell_type": "code",
   "execution_count": null,
   "metadata": {
    "collapsed": true
   },
   "outputs": [],
   "source": [
    "bi_avg_clustering = make_array()\n",
    "\n",
    "for _ in range(1000):\n",
    "    cur_net = ...\n",
    "    bi_avg_clustering = np.append(bi_avg_clustering, ...)"
   ]
  },
  {
   "cell_type": "markdown",
   "metadata": {},
   "source": [
    "**Questions** Plot a histogram of the distribution of densities from your 1000 random bipartite networks."
   ]
  },
  {
   "cell_type": "code",
   "execution_count": null,
   "metadata": {
    "collapsed": false
   },
   "outputs": [],
   "source": [
    "..."
   ]
  },
  {
   "cell_type": "markdown",
   "metadata": {},
   "source": [
    "**Question** Use the distribution of these densities to calculate a $p$ value for the hypothesis that the observed Southern Women's network was generated by a random bipartite network model. (The alternative is that the Southern Women's network has more clustering than the random model would suggest.)"
   ]
  },
  {
   "cell_type": "code",
   "execution_count": null,
   "metadata": {
    "collapsed": false
   },
   "outputs": [],
   "source": [
    "observed_p = ...\n",
    "observed_p"
   ]
  },
  {
   "cell_type": "markdown",
   "metadata": {},
   "source": [
    "**Question** What does your $p$ value suggest about how plausible your colleague's argument is?"
   ]
  },
  {
   "cell_type": "markdown",
   "metadata": {},
   "source": [
    "<div class='response'>\n",
    "[Answer here]\n",
    "</div>"
   ]
  },
  {
   "cell_type": "markdown",
   "metadata": {},
   "source": [
    "### Projected networks and thresholding"
   ]
  },
  {
   "cell_type": "markdown",
   "metadata": {},
   "source": [
    "Finally, we're going to look at how to construct a projected network from a bipartite network."
   ]
  },
  {
   "cell_type": "markdown",
   "metadata": {},
   "source": [
    "**Question** Project the Southern Women's network onto the nodes that are women."
   ]
  },
  {
   "cell_type": "code",
   "execution_count": null,
   "metadata": {
    "collapsed": true
   },
   "outputs": [],
   "source": [
    "women_network = bipartite.projected_graph(..., ...)"
   ]
  },
  {
   "cell_type": "markdown",
   "metadata": {},
   "source": [
    "**Question** Plot the network and look at the distribution of degrees (using the `nx.degree` function)."
   ]
  },
  {
   "cell_type": "code",
   "execution_count": null,
   "metadata": {
    "collapsed": false
   },
   "outputs": [],
   "source": [
    "nx.draw(...)\n",
    "nx.degree(...)"
   ]
  },
  {
   "cell_type": "markdown",
   "metadata": {},
   "source": [
    "This network is very highly connected; in fact, it is so highly connected that it is almost uninformative -- basically, the women are all connected to each other.  One way to try and improve the insights we can obtain from a projected network is to keep more information by weighting the edges."
   ]
  },
  {
   "cell_type": "markdown",
   "metadata": {},
   "source": [
    "**Question** Project the Southern Women network onto the nodes that are women, weighting each resulting edge by the number of events that were co-attended."
   ]
  },
  {
   "cell_type": "code",
   "execution_count": null,
   "metadata": {
    "collapsed": true
   },
   "outputs": [],
   "source": [
    "women_network_weighted = ..."
   ]
  },
  {
   "cell_type": "markdown",
   "metadata": {},
   "source": [
    "In many cases, it is possible to work directly with a weighted network. In others, it is convenient to turn the weighted network into an unweighted one.  We can turn a weighted network into an unweighted one by picking a threshold above which we will consider two nodes connected."
   ]
  },
  {
   "cell_type": "markdown",
   "metadata": {},
   "source": [
    "Here is a function which takes a network with weighted edges and a threshold. It returns a new network that has all edges whose weight is less than the threshold removed. Check it out:"
   ]
  },
  {
   "cell_type": "code",
   "execution_count": null,
   "metadata": {
    "collapsed": true
   },
   "outputs": [],
   "source": [
    "def edge_threshold(net, threshold):\n",
    "    \n",
    "    # we'll make a copy of this network so that we don't\n",
    "    # change the original\n",
    "    new_net = net.copy()\n",
    "    \n",
    "    for e in new_net.edges():\n",
    "        if new_net[e[0]][e[1]]['weight'] < threshold:\n",
    "            new_net.remove_edge(e[0], e[1])\n",
    "    \n",
    "    return(new_net)"
   ]
  },
  {
   "cell_type": "markdown",
   "metadata": {},
   "source": [
    "**Question** The loop below is supposed to go through all of the possible threshold values from 1 to 14 and draw the network that results when we only count edges above that threshold. Fill in the missing parts and look at the results:"
   ]
  },
  {
   "cell_type": "code",
   "execution_count": null,
   "metadata": {
    "collapsed": false
   },
   "outputs": [],
   "source": [
    "for thresh in range(..., ...):\n",
    "    this_net = edge_threshold(..., ...)\n",
    "    plt.figure()\n",
    "    plt.suptitle(\"Threshold: \" + str(thresh))\n",
    "    nx.draw_circular(this_net)"
   ]
  },
  {
   "cell_type": "markdown",
   "metadata": {},
   "source": [
    "**Question** How much does it seem to matter which threshold you pick? Can you think of a good (principled) reason to pick one threshold value over another?"
   ]
  },
  {
   "cell_type": "markdown",
   "metadata": {},
   "source": [
    "<div class='response'>\n",
    "[Answer here]\n",
    "</div>"
   ]
  },
  {
   "cell_type": "markdown",
   "metadata": {},
   "source": [
    "## Optional challenge "
   ]
  },
  {
   "cell_type": "markdown",
   "metadata": {},
   "source": [
    "Above, we studied clustering in the Southern Women network by using the bipartite average clustering.\n",
    "\n",
    "An alternate approach would be to study clustering in the projection of the Southern Women network onto the nodes that are women. You will use as a null model the projection of a random bipartite network onto the nodes that are women.\n",
    "\n",
    "**Optional challenge question** Project the Southern Women network onto the nodes that are women. Threshold the network to 4 events; i.e., consider two women in the projected network connected if they attended at least 4 events together."
   ]
  },
  {
   "cell_type": "code",
   "execution_count": null,
   "metadata": {
    "collapsed": true
   },
   "outputs": [],
   "source": [
    "proj_sw_women = ..."
   ]
  },
  {
   "cell_type": "markdown",
   "metadata": {},
   "source": [
    "**Optional challenge question** Calculate the average clustering coefficient of the projected network (NB: use the standard average clustering coefficient, not the bipartite one -- the projected network is not bipartite.)"
   ]
  },
  {
   "cell_type": "code",
   "execution_count": null,
   "metadata": {
    "collapsed": false
   },
   "outputs": [],
   "source": [
    "sw_proj_clustering = ...\n",
    "sw_proj_clustering"
   ]
  },
  {
   "cell_type": "markdown",
   "metadata": {},
   "source": [
    "**Optional challenge question** Write a simulation that generates draws from the null model; that is, simulate, say, 1000 random bipartite networks, project each bipartite network onto the nodes corresponding to the set of women, threshold at 4, and calculate the average clustering coefficient of the projected random network."
   ]
  },
  {
   "cell_type": "code",
   "execution_count": null,
   "metadata": {
    "collapsed": false
   },
   "outputs": [],
   "source": [
    "proj_avg_clustering = make_array()\n",
    "threshold_val = 4\n",
    "\n",
    "for _ in range(1000):\n",
    "    cur_net = ...\n",
    "    proj_cur_net = bipartite.weighted_projected_graph(..., ...)\n",
    "    proj_cur_net_thresh = edge_threshold(..., ...)\n",
    "    proj_avg_clustering = np.append(proj_avg_clustering, nx.average_clustering(...))"
   ]
  },
  {
   "cell_type": "markdown",
   "metadata": {},
   "source": [
    "**Optional challenge question** Make a histogram of the distribution of the average clustering coefficient under the null model; where would the observed value fall?"
   ]
  },
  {
   "cell_type": "code",
   "execution_count": null,
   "metadata": {
    "collapsed": false
   },
   "outputs": [],
   "source": [
    "..."
   ]
  },
  {
   "cell_type": "markdown",
   "metadata": {},
   "source": [
    "**Optional challenge question** Compute a $p$ value for the observed value (alternative hypothesis is again that clustering is higher in the Southern Women data than the null model would predict). What would you conclude?"
   ]
  },
  {
   "cell_type": "code",
   "execution_count": null,
   "metadata": {
    "collapsed": false
   },
   "outputs": [],
   "source": [
    "observed_p = ...\n",
    "observed_p"
   ]
  },
  {
   "cell_type": "markdown",
   "metadata": {},
   "source": [
    "## Submit the lab\n",
    "\n",
    "You're almost done! Now please create a pdf version of your completed lab by **either**:\n",
    "\n",
    "* printing your notebook to a pdf file\n",
    "* going to the Jupyter 'File' menu, choosing 'Download as' and then 'PDF via LaTeX (.pdf)'. \n",
    "\n",
    "Please save the resulting .pdf on your computer and then **submit the .pdf on bcourses**.\n",
    "\n",
    "**The lab must be submitted by the end of the day on Monday, Nov. 6. Late labs will not be accepted.**"
   ]
  },
  {
   "cell_type": "code",
   "execution_count": null,
   "metadata": {
    "collapsed": true
   },
   "outputs": [],
   "source": []
  }
 ],
 "metadata": {
  "anaconda-cloud": {},
  "kernelspec": {
   "display_name": "Python [default]",
   "language": "python",
   "name": "python3"
  },
  "language_info": {
   "codemirror_mode": {
    "name": "ipython",
    "version": 3
   },
   "file_extension": ".py",
   "mimetype": "text/x-python",
   "name": "python",
   "nbconvert_exporter": "python",
   "pygments_lexer": "ipython3",
   "version": "3.5.2"
  }
 },
 "nbformat": 4,
 "nbformat_minor": 1
}
